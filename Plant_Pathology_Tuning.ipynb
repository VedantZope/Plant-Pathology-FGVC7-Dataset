{
  "nbformat": 4,
  "nbformat_minor": 0,
  "metadata": {
    "colab": {
      "provenance": [],
      "collapsed_sections": [],
      "include_colab_link": true
    },
    "kernelspec": {
      "name": "python3",
      "display_name": "Python 3"
    },
    "language_info": {
      "name": "python"
    },
    "widgets": {
      "application/vnd.jupyter.widget-state+json": {
        "f9bc6384c4db4416a1b593ec6da19918": {
          "model_module": "@jupyter-widgets/controls",
          "model_name": "HBoxModel",
          "model_module_version": "1.5.0",
          "state": {
            "_view_name": "HBoxView",
            "_dom_classes": [],
            "_model_name": "HBoxModel",
            "_view_module": "@jupyter-widgets/controls",
            "_model_module_version": "1.5.0",
            "_view_count": null,
            "_view_module_version": "1.5.0",
            "box_style": "",
            "layout": "IPY_MODEL_1a85353e660944548e4ed1860ad0fa92",
            "_model_module": "@jupyter-widgets/controls",
            "children": [
              "IPY_MODEL_86de645633f341c88e421b8f55769545",
              "IPY_MODEL_126e44a75cae4dd496243880c17a70c0",
              "IPY_MODEL_a323ed7f814b45b1b786553054e53aca"
            ]
          }
        },
        "1a85353e660944548e4ed1860ad0fa92": {
          "model_module": "@jupyter-widgets/base",
          "model_name": "LayoutModel",
          "model_module_version": "1.2.0",
          "state": {
            "_view_name": "LayoutView",
            "grid_template_rows": null,
            "right": null,
            "justify_content": null,
            "_view_module": "@jupyter-widgets/base",
            "overflow": null,
            "_model_module_version": "1.2.0",
            "_view_count": null,
            "flex_flow": null,
            "width": null,
            "min_width": null,
            "border": null,
            "align_items": null,
            "bottom": null,
            "_model_module": "@jupyter-widgets/base",
            "top": null,
            "grid_column": null,
            "overflow_y": null,
            "overflow_x": null,
            "grid_auto_flow": null,
            "grid_area": null,
            "grid_template_columns": null,
            "flex": null,
            "_model_name": "LayoutModel",
            "justify_items": null,
            "grid_row": null,
            "max_height": null,
            "align_content": null,
            "visibility": null,
            "align_self": null,
            "height": null,
            "min_height": null,
            "padding": null,
            "grid_auto_rows": null,
            "grid_gap": null,
            "max_width": null,
            "order": null,
            "_view_module_version": "1.2.0",
            "grid_template_areas": null,
            "object_position": null,
            "object_fit": null,
            "grid_auto_columns": null,
            "margin": null,
            "display": null,
            "left": null
          }
        },
        "86de645633f341c88e421b8f55769545": {
          "model_module": "@jupyter-widgets/controls",
          "model_name": "HTMLModel",
          "model_module_version": "1.5.0",
          "state": {
            "_view_name": "HTMLView",
            "style": "IPY_MODEL_30f87e3003f44b58b553211f293e36b7",
            "_dom_classes": [],
            "description": "",
            "_model_name": "HTMLModel",
            "placeholder": "​",
            "_view_module": "@jupyter-widgets/controls",
            "_model_module_version": "1.5.0",
            "value": "100%",
            "_view_count": null,
            "_view_module_version": "1.5.0",
            "description_tooltip": null,
            "_model_module": "@jupyter-widgets/controls",
            "layout": "IPY_MODEL_0c2fce69ef4e424cacf51bf9f33725f3"
          }
        },
        "126e44a75cae4dd496243880c17a70c0": {
          "model_module": "@jupyter-widgets/controls",
          "model_name": "FloatProgressModel",
          "model_module_version": "1.5.0",
          "state": {
            "_view_name": "ProgressView",
            "style": "IPY_MODEL_042bda15e4de437b8e1c616a9f53f137",
            "_dom_classes": [],
            "description": "",
            "_model_name": "FloatProgressModel",
            "bar_style": "success",
            "max": 102530333,
            "_view_module": "@jupyter-widgets/controls",
            "_model_module_version": "1.5.0",
            "value": 102530333,
            "_view_count": null,
            "_view_module_version": "1.5.0",
            "orientation": "horizontal",
            "min": 0,
            "description_tooltip": null,
            "_model_module": "@jupyter-widgets/controls",
            "layout": "IPY_MODEL_7043dc257e294f96967a0a9ffa5199ef"
          }
        },
        "a323ed7f814b45b1b786553054e53aca": {
          "model_module": "@jupyter-widgets/controls",
          "model_name": "HTMLModel",
          "model_module_version": "1.5.0",
          "state": {
            "_view_name": "HTMLView",
            "style": "IPY_MODEL_3c03291a6ae94f98b21a1a466e1186a5",
            "_dom_classes": [],
            "description": "",
            "_model_name": "HTMLModel",
            "placeholder": "​",
            "_view_module": "@jupyter-widgets/controls",
            "_model_module_version": "1.5.0",
            "value": " 97.8M/97.8M [00:00&lt;00:00, 115MB/s]",
            "_view_count": null,
            "_view_module_version": "1.5.0",
            "description_tooltip": null,
            "_model_module": "@jupyter-widgets/controls",
            "layout": "IPY_MODEL_559b262fcb4540b38a1c110f58fed848"
          }
        },
        "30f87e3003f44b58b553211f293e36b7": {
          "model_module": "@jupyter-widgets/controls",
          "model_name": "DescriptionStyleModel",
          "model_module_version": "1.5.0",
          "state": {
            "_view_name": "StyleView",
            "_model_name": "DescriptionStyleModel",
            "description_width": "",
            "_view_module": "@jupyter-widgets/base",
            "_model_module_version": "1.5.0",
            "_view_count": null,
            "_view_module_version": "1.2.0",
            "_model_module": "@jupyter-widgets/controls"
          }
        },
        "0c2fce69ef4e424cacf51bf9f33725f3": {
          "model_module": "@jupyter-widgets/base",
          "model_name": "LayoutModel",
          "model_module_version": "1.2.0",
          "state": {
            "_view_name": "LayoutView",
            "grid_template_rows": null,
            "right": null,
            "justify_content": null,
            "_view_module": "@jupyter-widgets/base",
            "overflow": null,
            "_model_module_version": "1.2.0",
            "_view_count": null,
            "flex_flow": null,
            "width": null,
            "min_width": null,
            "border": null,
            "align_items": null,
            "bottom": null,
            "_model_module": "@jupyter-widgets/base",
            "top": null,
            "grid_column": null,
            "overflow_y": null,
            "overflow_x": null,
            "grid_auto_flow": null,
            "grid_area": null,
            "grid_template_columns": null,
            "flex": null,
            "_model_name": "LayoutModel",
            "justify_items": null,
            "grid_row": null,
            "max_height": null,
            "align_content": null,
            "visibility": null,
            "align_self": null,
            "height": null,
            "min_height": null,
            "padding": null,
            "grid_auto_rows": null,
            "grid_gap": null,
            "max_width": null,
            "order": null,
            "_view_module_version": "1.2.0",
            "grid_template_areas": null,
            "object_position": null,
            "object_fit": null,
            "grid_auto_columns": null,
            "margin": null,
            "display": null,
            "left": null
          }
        },
        "042bda15e4de437b8e1c616a9f53f137": {
          "model_module": "@jupyter-widgets/controls",
          "model_name": "ProgressStyleModel",
          "model_module_version": "1.5.0",
          "state": {
            "_view_name": "StyleView",
            "_model_name": "ProgressStyleModel",
            "description_width": "",
            "_view_module": "@jupyter-widgets/base",
            "_model_module_version": "1.5.0",
            "_view_count": null,
            "_view_module_version": "1.2.0",
            "bar_color": null,
            "_model_module": "@jupyter-widgets/controls"
          }
        },
        "7043dc257e294f96967a0a9ffa5199ef": {
          "model_module": "@jupyter-widgets/base",
          "model_name": "LayoutModel",
          "model_module_version": "1.2.0",
          "state": {
            "_view_name": "LayoutView",
            "grid_template_rows": null,
            "right": null,
            "justify_content": null,
            "_view_module": "@jupyter-widgets/base",
            "overflow": null,
            "_model_module_version": "1.2.0",
            "_view_count": null,
            "flex_flow": null,
            "width": null,
            "min_width": null,
            "border": null,
            "align_items": null,
            "bottom": null,
            "_model_module": "@jupyter-widgets/base",
            "top": null,
            "grid_column": null,
            "overflow_y": null,
            "overflow_x": null,
            "grid_auto_flow": null,
            "grid_area": null,
            "grid_template_columns": null,
            "flex": null,
            "_model_name": "LayoutModel",
            "justify_items": null,
            "grid_row": null,
            "max_height": null,
            "align_content": null,
            "visibility": null,
            "align_self": null,
            "height": null,
            "min_height": null,
            "padding": null,
            "grid_auto_rows": null,
            "grid_gap": null,
            "max_width": null,
            "order": null,
            "_view_module_version": "1.2.0",
            "grid_template_areas": null,
            "object_position": null,
            "object_fit": null,
            "grid_auto_columns": null,
            "margin": null,
            "display": null,
            "left": null
          }
        },
        "3c03291a6ae94f98b21a1a466e1186a5": {
          "model_module": "@jupyter-widgets/controls",
          "model_name": "DescriptionStyleModel",
          "model_module_version": "1.5.0",
          "state": {
            "_view_name": "StyleView",
            "_model_name": "DescriptionStyleModel",
            "description_width": "",
            "_view_module": "@jupyter-widgets/base",
            "_model_module_version": "1.5.0",
            "_view_count": null,
            "_view_module_version": "1.2.0",
            "_model_module": "@jupyter-widgets/controls"
          }
        },
        "559b262fcb4540b38a1c110f58fed848": {
          "model_module": "@jupyter-widgets/base",
          "model_name": "LayoutModel",
          "model_module_version": "1.2.0",
          "state": {
            "_view_name": "LayoutView",
            "grid_template_rows": null,
            "right": null,
            "justify_content": null,
            "_view_module": "@jupyter-widgets/base",
            "overflow": null,
            "_model_module_version": "1.2.0",
            "_view_count": null,
            "flex_flow": null,
            "width": null,
            "min_width": null,
            "border": null,
            "align_items": null,
            "bottom": null,
            "_model_module": "@jupyter-widgets/base",
            "top": null,
            "grid_column": null,
            "overflow_y": null,
            "overflow_x": null,
            "grid_auto_flow": null,
            "grid_area": null,
            "grid_template_columns": null,
            "flex": null,
            "_model_name": "LayoutModel",
            "justify_items": null,
            "grid_row": null,
            "max_height": null,
            "align_content": null,
            "visibility": null,
            "align_self": null,
            "height": null,
            "min_height": null,
            "padding": null,
            "grid_auto_rows": null,
            "grid_gap": null,
            "max_width": null,
            "order": null,
            "_view_module_version": "1.2.0",
            "grid_template_areas": null,
            "object_position": null,
            "object_fit": null,
            "grid_auto_columns": null,
            "margin": null,
            "display": null,
            "left": null
          }
        }
      }
    },
    "accelerator": "GPU"
  },
  "cells": [
    {
      "cell_type": "markdown",
      "metadata": {
        "id": "view-in-github",
        "colab_type": "text"
      },
      "source": [
        "<a href=\"https://colab.research.google.com/github/VedantZope/Plant-Pathology-FGVC7-Dataset/blob/main/Plant_Pathology_Tuning.ipynb\" target=\"_parent\"><img src=\"https://colab.research.google.com/assets/colab-badge.svg\" alt=\"Open In Colab\"/></a>"
      ]
    },
    {
      "cell_type": "code",
      "metadata": {
        "id": "1u2UPrlDAwcd",
        "colab": {
          "base_uri": "https://localhost:8080/"
        },
        "outputId": "08f0da1b-1f98-465a-f280-826a4542c326"
      },
      "source": [
        "! pip install ray[tune]"
      ],
      "execution_count": null,
      "outputs": [
        {
          "output_type": "stream",
          "name": "stdout",
          "text": [
            "Collecting ray[tune]\n",
            "  Downloading ray-1.6.0-cp37-cp37m-manylinux2014_x86_64.whl (49.6 MB)\n",
            "\u001b[K     |████████████████████████████████| 49.6 MB 6.0 kB/s \n",
            "\u001b[?25hRequirement already satisfied: grpcio>=1.28.1 in /usr/local/lib/python3.7/dist-packages (from ray[tune]) (1.40.0)\n",
            "Requirement already satisfied: pyyaml in /usr/local/lib/python3.7/dist-packages (from ray[tune]) (3.13)\n",
            "Requirement already satisfied: filelock in /usr/local/lib/python3.7/dist-packages (from ray[tune]) (3.0.12)\n",
            "Collecting redis>=3.5.0\n",
            "  Downloading redis-3.5.3-py2.py3-none-any.whl (72 kB)\n",
            "\u001b[K     |████████████████████████████████| 72 kB 489 kB/s \n",
            "\u001b[?25hRequirement already satisfied: attrs in /usr/local/lib/python3.7/dist-packages (from ray[tune]) (21.2.0)\n",
            "Requirement already satisfied: numpy>=1.16 in /usr/local/lib/python3.7/dist-packages (from ray[tune]) (1.19.5)\n",
            "Requirement already satisfied: msgpack<2.0.0,>=1.0.0 in /usr/local/lib/python3.7/dist-packages (from ray[tune]) (1.0.2)\n",
            "Requirement already satisfied: protobuf>=3.15.3 in /usr/local/lib/python3.7/dist-packages (from ray[tune]) (3.17.3)\n",
            "Requirement already satisfied: click>=7.0 in /usr/local/lib/python3.7/dist-packages (from ray[tune]) (7.1.2)\n",
            "Requirement already satisfied: requests in /usr/local/lib/python3.7/dist-packages (from ray[tune]) (2.23.0)\n",
            "Requirement already satisfied: tabulate in /usr/local/lib/python3.7/dist-packages (from ray[tune]) (0.8.9)\n",
            "Collecting tensorboardX>=1.9\n",
            "  Downloading tensorboardX-2.4-py2.py3-none-any.whl (124 kB)\n",
            "\u001b[K     |████████████████████████████████| 124 kB 35.6 MB/s \n",
            "\u001b[?25hRequirement already satisfied: pandas in /usr/local/lib/python3.7/dist-packages (from ray[tune]) (1.1.5)\n",
            "Requirement already satisfied: six>=1.5.2 in /usr/local/lib/python3.7/dist-packages (from grpcio>=1.28.1->ray[tune]) (1.15.0)\n",
            "Requirement already satisfied: pytz>=2017.2 in /usr/local/lib/python3.7/dist-packages (from pandas->ray[tune]) (2018.9)\n",
            "Requirement already satisfied: python-dateutil>=2.7.3 in /usr/local/lib/python3.7/dist-packages (from pandas->ray[tune]) (2.8.2)\n",
            "Requirement already satisfied: idna<3,>=2.5 in /usr/local/lib/python3.7/dist-packages (from requests->ray[tune]) (2.10)\n",
            "Requirement already satisfied: urllib3!=1.25.0,!=1.25.1,<1.26,>=1.21.1 in /usr/local/lib/python3.7/dist-packages (from requests->ray[tune]) (1.24.3)\n",
            "Requirement already satisfied: chardet<4,>=3.0.2 in /usr/local/lib/python3.7/dist-packages (from requests->ray[tune]) (3.0.4)\n",
            "Requirement already satisfied: certifi>=2017.4.17 in /usr/local/lib/python3.7/dist-packages (from requests->ray[tune]) (2021.5.30)\n",
            "Installing collected packages: redis, tensorboardX, ray\n",
            "Successfully installed ray-1.6.0 redis-3.5.3 tensorboardX-2.4\n"
          ]
        }
      ]
    },
    {
      "cell_type": "code",
      "metadata": {
        "id": "Xeta-ULz5znn"
      },
      "source": [
        "import torch\n",
        "from torch import nn\n",
        "from torchvision import transforms\n",
        "from torch.utils.data import DataLoader\n",
        "import matplotlib.pyplot as plt\n",
        "from torch.utils.data import random_split\n",
        "import numpy as np\n",
        "from ray import tune\n",
        "from ray.tune import CLIReporter\n",
        "from ray.tune.schedulers import ASHAScheduler"
      ],
      "execution_count": null,
      "outputs": []
    },
    {
      "cell_type": "code",
      "metadata": {
        "colab": {
          "base_uri": "https://localhost:8080/"
        },
        "id": "waeHioRu7A-h",
        "outputId": "dd1f229d-58bf-4767-8978-901ee2e93f4a"
      },
      "source": [
        "np.random.randint(2, 9)"
      ],
      "execution_count": null,
      "outputs": [
        {
          "output_type": "execute_result",
          "data": {
            "text/plain": [
              "4"
            ]
          },
          "metadata": {},
          "execution_count": 3
        }
      ]
    },
    {
      "cell_type": "code",
      "metadata": {
        "colab": {
          "base_uri": "https://localhost:8080/"
        },
        "id": "qpx7CrcM2U3z",
        "outputId": "135290c6-0eeb-473d-fce2-593e1ef8e34c"
      },
      "source": [
        "from google.colab import drive\n",
        "drive.mount('/content/drive')"
      ],
      "execution_count": null,
      "outputs": [
        {
          "output_type": "stream",
          "name": "stdout",
          "text": [
            "Mounted at /content/drive\n"
          ]
        }
      ]
    },
    {
      "cell_type": "code",
      "metadata": {
        "id": "4q4AxIyAGMEm"
      },
      "source": [
        "import pandas as pd\n",
        "data_path = '/content/drive/MyDrive/plant-pathology-2020-fgvc7/'\n",
        "train = pd.read_csv(data_path + 'train.csv')\n",
        "test = pd.read_csv(data_path + 'test.csv')\n"
      ],
      "execution_count": null,
      "outputs": []
    },
    {
      "cell_type": "code",
      "metadata": {
        "id": "Is-lrF0LJicQ",
        "colab": {
          "base_uri": "https://localhost:8080/"
        },
        "outputId": "105f1cab-b9d5-4f61-fba9-49edc77feecc"
      },
      "source": [
        "! mkdir /content/drive/MyDrive/plant-pathology-2020-fgvc7/train"
      ],
      "execution_count": null,
      "outputs": [
        {
          "output_type": "stream",
          "name": "stdout",
          "text": [
            "mkdir: cannot create directory ‘/content/drive/MyDrive/plant-pathology-2020-fgvc7/train’: File exists\n"
          ]
        }
      ]
    },
    {
      "cell_type": "code",
      "metadata": {
        "colab": {
          "base_uri": "https://localhost:8080/",
          "height": 286
        },
        "id": "3cl915W9NIVx",
        "outputId": "be75032d-8eda-4d71-9119-40de72ba700f"
      },
      "source": [
        "import cv2\n",
        "img_path = f'/content/drive/MyDrive/plant-pathology-2020-fgvc7/validation/scab/'\n",
        "image = cv2.imread(img_path + 'Train_0.jpg')\n",
        "image = cv2.cvtColor(image, cv2.COLOR_BGR2RGB)\n",
        "plt.imshow(image)\n"
      ],
      "execution_count": null,
      "outputs": [
        {
          "output_type": "execute_result",
          "data": {
            "text/plain": [
              "<matplotlib.image.AxesImage at 0x7f43af699ad0>"
            ]
          },
          "metadata": {},
          "execution_count": 7
        },
        {
          "output_type": "display_data",
          "data": {
            "image/png": "[encoded data removed]",
            "text/plain": [
              "<Figure size 432x288 with 1 Axes>"
            ]
          },
          "metadata": {
            "needs_background": "light"
          }
        }
      ]
    },
    {
      "cell_type": "code",
      "metadata": {
        "id": "_2O-QpXb5xuc"
      },
      "source": [
        "images = f'/content/drive/MyDrive/plant-pathology-2020-fgvc7/'\n",
        "#train_labels = f'/content/drive/MyDrive/plant-pathology-2020-fgvc7/train.csv'"
      ],
      "execution_count": null,
      "outputs": []
    },
    {
      "cell_type": "code",
      "metadata": {
        "id": "Klumt766K3IJ"
      },
      "source": [
        "import shutil\n",
        "# for i in range(len(train)):\n",
        "#   image = cv2.imread(images + str(train['image_id'][i]) + '.jpg')\n",
        "#   image = cv2.cvtColor(image, cv2.COLOR_BGR2RGB)\n",
        "#   break\n",
        "\n",
        "def create_dataset(file):\n",
        "  for i in range(len(file)):\n",
        "    img_path = images + str(file['image_id'][i]) + '.jpg'\n",
        "    image_id = file['image_id'][i]\n",
        "    if file['healthy'][i] == 1:\n",
        "      shutil.move(img_path, '/content/drive/MyDrive/plant-pathology-2020-fgvc7/train/healthy')\n",
        "    if file['multiple_diseases'][i] == 1:\n",
        "      shutil.move(img_path, '/content/drive/MyDrive/plant-pathology-2020-fgvc7/train/multiple_diseases')\n",
        "    if file['rust'][i] == 1:\n",
        "      shutil.move(img_path, '/content/drive/MyDrive/plant-pathology-2020-fgvc7/train/rust')\n",
        "    if file['scab'][i] == 1:\n",
        "      shutil.move(img_path, '/content/drive/MyDrive/plant-pathology-2020-fgvc7/train/scab')\n",
        "\n",
        "\n",
        "def create_testset(file):\n",
        "  for i in range(len(file)):\n",
        "    img_path = str(images + file['image_id'][i] + '.jpg')\n",
        "    shutil.move(img_path, '/content/drive/MyDrive/plant-pathology-2020-fgvc7/test/all')\n",
        "\n",
        "\n",
        "\n",
        "\n",
        "  "
      ],
      "execution_count": null,
      "outputs": []
    },
    {
      "cell_type": "code",
      "metadata": {
        "id": "4ksqkJSRVRiv"
      },
      "source": [
        "from torchvision import transforms\n",
        "from torchvision import datasets"
      ],
      "execution_count": null,
      "outputs": []
    },
    {
      "cell_type": "code",
      "metadata": {
        "id": "s4AIkQLFlQDQ"
      },
      "source": [
        "#tried to use shuf and xargs but not serving the purpose"
      ],
      "execution_count": null,
      "outputs": []
    },
    {
      "cell_type": "code",
      "metadata": {
        "id": "BwBCso2370XM"
      },
      "source": [
        "train_transforms = transforms.Compose([\n",
        "        transforms.RandomResizedCrop(size=256, scale=(0.8, 1.0)),\n",
        "        transforms.RandomRotation(degrees=15),\n",
        "        transforms.ColorJitter(0.3, 0.3, 0.3, 0.3),\n",
        "        transforms.RandomHorizontalFlip(),\n",
        "        transforms.CenterCrop(size=224),  # Image net standards\n",
        "        transforms.ToTensor(),\n",
        "        transforms.Normalize([0.485, 0.456, 0.406],\n",
        "                             [0.229, 0.224, 0.225])  # Imagenet standards\n",
        "      ])\n",
        "val_transforms = transforms.Compose([\n",
        "        transforms.Resize(size=256),\n",
        "        transforms.CenterCrop(size=224),\n",
        "        transforms.ToTensor(),\n",
        "        transforms.Normalize([0.485, 0.456, 0.406], [0.229, 0.224, 0.225])\n",
        "    ])\n",
        "\n",
        "train_ds = datasets.ImageFolder('/content/drive/MyDrive/plant-pathology-2020-fgvc7/train', transform=train_transforms)\n",
        "val_ds = datasets.ImageFolder('/content/drive/MyDrive/plant-pathology-2020-fgvc7/validation', transform=val_transforms)\n",
        "test_ds = datasets.ImageFolder('/content/drive/MyDrive/plant-pathology-2020-fgvc7/test', transform=val_transforms)"
      ],
      "execution_count": null,
      "outputs": []
    },
    {
      "cell_type": "code",
      "metadata": {
        "id": "-p4BdREysSlK"
      },
      "source": [
        "batch_size = 5\n",
        "train_dl = DataLoader(train_ds, batch_size, shuffle=True)\n",
        "val_dl = DataLoader(val_ds, batch_size, shuffle=True)"
      ],
      "execution_count": null,
      "outputs": []
    },
    {
      "cell_type": "code",
      "metadata": {
        "id": "BoV_r8ge9-jZ"
      },
      "source": [
        "batch_size_test = 3\n",
        "test_dl = DataLoader(test_ds, batch_size_test, shuffle=False)"
      ],
      "execution_count": null,
      "outputs": []
    },
    {
      "cell_type": "code",
      "metadata": {
        "id": "5GojBKIgtGXk"
      },
      "source": [
        "from torchvision import models"
      ],
      "execution_count": null,
      "outputs": []
    },
    {
      "cell_type": "code",
      "metadata": {
        "id": "z4a_hUrxuCBe",
        "colab": {
          "base_uri": "https://localhost:8080/",
          "height": 86,
          "referenced_widgets": [
            "f9bc6384c4db4416a1b593ec6da19918",
            "1a85353e660944548e4ed1860ad0fa92",
            "86de645633f341c88e421b8f55769545",
            "126e44a75cae4dd496243880c17a70c0",
            "a323ed7f814b45b1b786553054e53aca",
            "30f87e3003f44b58b553211f293e36b7",
            "0c2fce69ef4e424cacf51bf9f33725f3",
            "042bda15e4de437b8e1c616a9f53f137",
            "7043dc257e294f96967a0a9ffa5199ef",
            "3c03291a6ae94f98b21a1a466e1186a5",
            "559b262fcb4540b38a1c110f58fed848"
          ]
        },
        "outputId": "9dca9363-76de-4ccb-c56b-dd8dbfc88521"
      },
      "source": [
        "#model = models.vgg16(pretrained=True)\n",
        "model = models.resnet50(pretrained=True)\n",
        "for parameters in model.parameters():\n",
        "  parameters.requires_grad = False"
      ],
      "execution_count": null,
      "outputs": [
        {
          "output_type": "stream",
          "name": "stderr",
          "text": [
            "Downloading: \"https://download.pytorch.org/models/resnet50-0676ba61.pth\" to /root/.cache/torch/hub/checkpoints/resnet50-0676ba61.pth\n"
          ]
        },
        {
          "output_type": "display_data",
          "data": {
            "application/vnd.jupyter.widget-view+json": {
              "model_id": "f9bc6384c4db4416a1b593ec6da19918",
              "version_minor": 0,
              "version_major": 2
            },
            "text/plain": [
              "  0%|          | 0.00/97.8M [00:00<?, ?B/s]"
            ]
          },
          "metadata": {}
        }
      ]
    },
    {
      "cell_type": "code",
      "metadata": {
        "id": "9b86VaVkufyD"
      },
      "source": [
        "# model.classifier[6] = nn.Sequential(\n",
        "#                           nn.Linear(4096, 256),        #4096 is the no of parameters in VGG-16 here\n",
        "#                           nn.ReLU(),\n",
        "#                           nn.Dropout(0.4),\n",
        "#                           nn.Linear(256, 4),\n",
        "#                           nn.LogSoftmax(dim=1)\n",
        "#)"
      ],
      "execution_count": null,
      "outputs": []
    },
    {
      "cell_type": "code",
      "metadata": {
        "id": "qCu5TQsoLqOu"
      },
      "source": [
        "model.fc = nn.Sequential(\n",
        "                    nn.Linear(2048, 128),\n",
        "                    nn.ReLU(),\n",
        "                    nn.Dropout(0.4),\n",
        "                    nn.Linear(128, 4),\n",
        "                    nn.LogSoftmax(dim=1)                   \n",
        ")"
      ],
      "execution_count": null,
      "outputs": []
    },
    {
      "cell_type": "code",
      "metadata": {
        "id": "CiiK9SXfvTXJ",
        "colab": {
          "base_uri": "https://localhost:8080/"
        },
        "outputId": "6dded733-9d8d-47f7-8554-b05d7f5904fc"
      },
      "source": [
        "model.to('cuda')\n",
        "#model = nn.DataParallel(model)"
      ],
      "execution_count": null,
      "outputs": [
        {
          "output_type": "execute_result",
          "data": {
            "text/plain": [
              "ResNet(\n",
              "  (conv1): Conv2d(3, 64, kernel_size=(7, 7), stride=(2, 2), padding=(3, 3), bias=False)\n",
              "  (bn1): BatchNorm2d(64, eps=1e-05, momentum=0.1, affine=True, track_running_stats=True)\n",
              "  (relu): ReLU(inplace=True)\n",
              "  (maxpool): MaxPool2d(kernel_size=3, stride=2, padding=1, dilation=1, ceil_mode=False)\n",
              "  (layer1): Sequential(\n",
              "    (0): Bottleneck(\n",
              "      (conv1): Conv2d(64, 64, kernel_size=(1, 1), stride=(1, 1), bias=False)\n",
              "      (bn1): BatchNorm2d(64, eps=1e-05, momentum=0.1, affine=True, track_running_stats=True)\n",
              "      (conv2): Conv2d(64, 64, kernel_size=(3, 3), stride=(1, 1), padding=(1, 1), bias=False)\n",
              "      (bn2): BatchNorm2d(64, eps=1e-05, momentum=0.1, affine=True, track_running_stats=True)\n",
              "      (conv3): Conv2d(64, 256, kernel_size=(1, 1), stride=(1, 1), bias=False)\n",
              "      (bn3): BatchNorm2d(256, eps=1e-05, momentum=0.1, affine=True, track_running_stats=True)\n",
              "      (relu): ReLU(inplace=True)\n",
              "      (downsample): Sequential(\n",
              "        (0): Conv2d(64, 256, kernel_size=(1, 1), stride=(1, 1), bias=False)\n",
              "        (1): BatchNorm2d(256, eps=1e-05, momentum=0.1, affine=True, track_running_stats=True)\n",
              "      )\n",
              "    )\n",
              "    (1): Bottleneck(\n",
              "      (conv1): Conv2d(256, 64, kernel_size=(1, 1), stride=(1, 1), bias=False)\n",
              "      (bn1): BatchNorm2d(64, eps=1e-05, momentum=0.1, affine=True, track_running_stats=True)\n",
              "      (conv2): Conv2d(64, 64, kernel_size=(3, 3), stride=(1, 1), padding=(1, 1), bias=False)\n",
              "      (bn2): BatchNorm2d(64, eps=1e-05, momentum=0.1, affine=True, track_running_stats=True)\n",
              "      (conv3): Conv2d(64, 256, kernel_size=(1, 1), stride=(1, 1), bias=False)\n",
              "      (bn3): BatchNorm2d(256, eps=1e-05, momentum=0.1, affine=True, track_running_stats=True)\n",
              "      (relu): ReLU(inplace=True)\n",
              "    )\n",
              "    (2): Bottleneck(\n",
              "      (conv1): Conv2d(256, 64, kernel_size=(1, 1), stride=(1, 1), bias=False)\n",
              "      (bn1): BatchNorm2d(64, eps=1e-05, momentum=0.1, affine=True, track_running_stats=True)\n",
              "      (conv2): Conv2d(64, 64, kernel_size=(3, 3), stride=(1, 1), padding=(1, 1), bias=False)\n",
              "      (bn2): BatchNorm2d(64, eps=1e-05, momentum=0.1, affine=True, track_running_stats=True)\n",
              "      (conv3): Conv2d(64, 256, kernel_size=(1, 1), stride=(1, 1), bias=False)\n",
              "      (bn3): BatchNorm2d(256, eps=1e-05, momentum=0.1, affine=True, track_running_stats=True)\n",
              "      (relu): ReLU(inplace=True)\n",
              "    )\n",
              "  )\n",
              "  (layer2): Sequential(\n",
              "    (0): Bottleneck(\n",
              "      (conv1): Conv2d(256, 128, kernel_size=(1, 1), stride=(1, 1), bias=False)\n",
              "      (bn1): BatchNorm2d(128, eps=1e-05, momentum=0.1, affine=True, track_running_stats=True)\n",
              "      (conv2): Conv2d(128, 128, kernel_size=(3, 3), stride=(2, 2), padding=(1, 1), bias=False)\n",
              "      (bn2): BatchNorm2d(128, eps=1e-05, momentum=0.1, affine=True, track_running_stats=True)\n",
              "      (conv3): Conv2d(128, 512, kernel_size=(1, 1), stride=(1, 1), bias=False)\n",
              "      (bn3): BatchNorm2d(512, eps=1e-05, momentum=0.1, affine=True, track_running_stats=True)\n",
              "      (relu): ReLU(inplace=True)\n",
              "      (downsample): Sequential(\n",
              "        (0): Conv2d(256, 512, kernel_size=(1, 1), stride=(2, 2), bias=False)\n",
              "        (1): BatchNorm2d(512, eps=1e-05, momentum=0.1, affine=True, track_running_stats=True)\n",
              "      )\n",
              "    )\n",
              "    (1): Bottleneck(\n",
              "      (conv1): Conv2d(512, 128, kernel_size=(1, 1), stride=(1, 1), bias=False)\n",
              "      (bn1): BatchNorm2d(128, eps=1e-05, momentum=0.1, affine=True, track_running_stats=True)\n",
              "      (conv2): Conv2d(128, 128, kernel_size=(3, 3), stride=(1, 1), padding=(1, 1), bias=False)\n",
              "      (bn2): BatchNorm2d(128, eps=1e-05, momentum=0.1, affine=True, track_running_stats=True)\n",
              "      (conv3): Conv2d(128, 512, kernel_size=(1, 1), stride=(1, 1), bias=False)\n",
              "      (bn3): BatchNorm2d(512, eps=1e-05, momentum=0.1, affine=True, track_running_stats=True)\n",
              "      (relu): ReLU(inplace=True)\n",
              "    )\n",
              "    (2): Bottleneck(\n",
              "      (conv1): Conv2d(512, 128, kernel_size=(1, 1), stride=(1, 1), bias=False)\n",
              "      (bn1): BatchNorm2d(128, eps=1e-05, momentum=0.1, affine=True, track_running_stats=True)\n",
              "      (conv2): Conv2d(128, 128, kernel_size=(3, 3), stride=(1, 1), padding=(1, 1), bias=False)\n",
              "      (bn2): BatchNorm2d(128, eps=1e-05, momentum=0.1, affine=True, track_running_stats=True)\n",
              "      (conv3): Conv2d(128, 512, kernel_size=(1, 1), stride=(1, 1), bias=False)\n",
              "      (bn3): BatchNorm2d(512, eps=1e-05, momentum=0.1, affine=True, track_running_stats=True)\n",
              "      (relu): ReLU(inplace=True)\n",
              "    )\n",
              "    (3): Bottleneck(\n",
              "      (conv1): Conv2d(512, 128, kernel_size=(1, 1), stride=(1, 1), bias=False)\n",
              "      (bn1): BatchNorm2d(128, eps=1e-05, momentum=0.1, affine=True, track_running_stats=True)\n",
              "      (conv2): Conv2d(128, 128, kernel_size=(3, 3), stride=(1, 1), padding=(1, 1), bias=False)\n",
              "      (bn2): BatchNorm2d(128, eps=1e-05, momentum=0.1, affine=True, track_running_stats=True)\n",
              "      (conv3): Conv2d(128, 512, kernel_size=(1, 1), stride=(1, 1), bias=False)\n",
              "      (bn3): BatchNorm2d(512, eps=1e-05, momentum=0.1, affine=True, track_running_stats=True)\n",
              "      (relu): ReLU(inplace=True)\n",
              "    )\n",
              "  )\n",
              "  (layer3): Sequential(\n",
              "    (0): Bottleneck(\n",
              "      (conv1): Conv2d(512, 256, kernel_size=(1, 1), stride=(1, 1), bias=False)\n",
              "      (bn1): BatchNorm2d(256, eps=1e-05, momentum=0.1, affine=True, track_running_stats=True)\n",
              "      (conv2): Conv2d(256, 256, kernel_size=(3, 3), stride=(2, 2), padding=(1, 1), bias=False)\n",
              "      (bn2): BatchNorm2d(256, eps=1e-05, momentum=0.1, affine=True, track_running_stats=True)\n",
              "      (conv3): Conv2d(256, 1024, kernel_size=(1, 1), stride=(1, 1), bias=False)\n",
              "      (bn3): BatchNorm2d(1024, eps=1e-05, momentum=0.1, affine=True, track_running_stats=True)\n",
              "      (relu): ReLU(inplace=True)\n",
              "      (downsample): Sequential(\n",
              "        (0): Conv2d(512, 1024, kernel_size=(1, 1), stride=(2, 2), bias=False)\n",
              "        (1): BatchNorm2d(1024, eps=1e-05, momentum=0.1, affine=True, track_running_stats=True)\n",
              "      )\n",
              "    )\n",
              "    (1): Bottleneck(\n",
              "      (conv1): Conv2d(1024, 256, kernel_size=(1, 1), stride=(1, 1), bias=False)\n",
              "      (bn1): BatchNorm2d(256, eps=1e-05, momentum=0.1, affine=True, track_running_stats=True)\n",
              "      (conv2): Conv2d(256, 256, kernel_size=(3, 3), stride=(1, 1), padding=(1, 1), bias=False)\n",
              "      (bn2): BatchNorm2d(256, eps=1e-05, momentum=0.1, affine=True, track_running_stats=True)\n",
              "      (conv3): Conv2d(256, 1024, kernel_size=(1, 1), stride=(1, 1), bias=False)\n",
              "      (bn3): BatchNorm2d(1024, eps=1e-05, momentum=0.1, affine=True, track_running_stats=True)\n",
              "      (relu): ReLU(inplace=True)\n",
              "    )\n",
              "    (2): Bottleneck(\n",
              "      (conv1): Conv2d(1024, 256, kernel_size=(1, 1), stride=(1, 1), bias=False)\n",
              "      (bn1): BatchNorm2d(256, eps=1e-05, momentum=0.1, affine=True, track_running_stats=True)\n",
              "      (conv2): Conv2d(256, 256, kernel_size=(3, 3), stride=(1, 1), padding=(1, 1), bias=False)\n",
              "      (bn2): BatchNorm2d(256, eps=1e-05, momentum=0.1, affine=True, track_running_stats=True)\n",
              "      (conv3): Conv2d(256, 1024, kernel_size=(1, 1), stride=(1, 1), bias=False)\n",
              "      (bn3): BatchNorm2d(1024, eps=1e-05, momentum=0.1, affine=True, track_running_stats=True)\n",
              "      (relu): ReLU(inplace=True)\n",
              "    )\n",
              "    (3): Bottleneck(\n",
              "      (conv1): Conv2d(1024, 256, kernel_size=(1, 1), stride=(1, 1), bias=False)\n",
              "      (bn1): BatchNorm2d(256, eps=1e-05, momentum=0.1, affine=True, track_running_stats=True)\n",
              "      (conv2): Conv2d(256, 256, kernel_size=(3, 3), stride=(1, 1), padding=(1, 1), bias=False)\n",
              "      (bn2): BatchNorm2d(256, eps=1e-05, momentum=0.1, affine=True, track_running_stats=True)\n",
              "      (conv3): Conv2d(256, 1024, kernel_size=(1, 1), stride=(1, 1), bias=False)\n",
              "      (bn3): BatchNorm2d(1024, eps=1e-05, momentum=0.1, affine=True, track_running_stats=True)\n",
              "      (relu): ReLU(inplace=True)\n",
              "    )\n",
              "    (4): Bottleneck(\n",
              "      (conv1): Conv2d(1024, 256, kernel_size=(1, 1), stride=(1, 1), bias=False)\n",
              "      (bn1): BatchNorm2d(256, eps=1e-05, momentum=0.1, affine=True, track_running_stats=True)\n",
              "      (conv2): Conv2d(256, 256, kernel_size=(3, 3), stride=(1, 1), padding=(1, 1), bias=False)\n",
              "      (bn2): BatchNorm2d(256, eps=1e-05, momentum=0.1, affine=True, track_running_stats=True)\n",
              "      (conv3): Conv2d(256, 1024, kernel_size=(1, 1), stride=(1, 1), bias=False)\n",
              "      (bn3): BatchNorm2d(1024, eps=1e-05, momentum=0.1, affine=True, track_running_stats=True)\n",
              "      (relu): ReLU(inplace=True)\n",
              "    )\n",
              "    (5): Bottleneck(\n",
              "      (conv1): Conv2d(1024, 256, kernel_size=(1, 1), stride=(1, 1), bias=False)\n",
              "      (bn1): BatchNorm2d(256, eps=1e-05, momentum=0.1, affine=True, track_running_stats=True)\n",
              "      (conv2): Conv2d(256, 256, kernel_size=(3, 3), stride=(1, 1), padding=(1, 1), bias=False)\n",
              "      (bn2): BatchNorm2d(256, eps=1e-05, momentum=0.1, affine=True, track_running_stats=True)\n",
              "      (conv3): Conv2d(256, 1024, kernel_size=(1, 1), stride=(1, 1), bias=False)\n",
              "      (bn3): BatchNorm2d(1024, eps=1e-05, momentum=0.1, affine=True, track_running_stats=True)\n",
              "      (relu): ReLU(inplace=True)\n",
              "    )\n",
              "  )\n",
              "  (layer4): Sequential(\n",
              "    (0): Bottleneck(\n",
              "      (conv1): Conv2d(1024, 512, kernel_size=(1, 1), stride=(1, 1), bias=False)\n",
              "      (bn1): BatchNorm2d(512, eps=1e-05, momentum=0.1, affine=True, track_running_stats=True)\n",
              "      (conv2): Conv2d(512, 512, kernel_size=(3, 3), stride=(2, 2), padding=(1, 1), bias=False)\n",
              "      (bn2): BatchNorm2d(512, eps=1e-05, momentum=0.1, affine=True, track_running_stats=True)\n",
              "      (conv3): Conv2d(512, 2048, kernel_size=(1, 1), stride=(1, 1), bias=False)\n",
              "      (bn3): BatchNorm2d(2048, eps=1e-05, momentum=0.1, affine=True, track_running_stats=True)\n",
              "      (relu): ReLU(inplace=True)\n",
              "      (downsample): Sequential(\n",
              "        (0): Conv2d(1024, 2048, kernel_size=(1, 1), stride=(2, 2), bias=False)\n",
              "        (1): BatchNorm2d(2048, eps=1e-05, momentum=0.1, affine=True, track_running_stats=True)\n",
              "      )\n",
              "    )\n",
              "    (1): Bottleneck(\n",
              "      (conv1): Conv2d(2048, 512, kernel_size=(1, 1), stride=(1, 1), bias=False)\n",
              "      (bn1): BatchNorm2d(512, eps=1e-05, momentum=0.1, affine=True, track_running_stats=True)\n",
              "      (conv2): Conv2d(512, 512, kernel_size=(3, 3), stride=(1, 1), padding=(1, 1), bias=False)\n",
              "      (bn2): BatchNorm2d(512, eps=1e-05, momentum=0.1, affine=True, track_running_stats=True)\n",
              "      (conv3): Conv2d(512, 2048, kernel_size=(1, 1), stride=(1, 1), bias=False)\n",
              "      (bn3): BatchNorm2d(2048, eps=1e-05, momentum=0.1, affine=True, track_running_stats=True)\n",
              "      (relu): ReLU(inplace=True)\n",
              "    )\n",
              "    (2): Bottleneck(\n",
              "      (conv1): Conv2d(2048, 512, kernel_size=(1, 1), stride=(1, 1), bias=False)\n",
              "      (bn1): BatchNorm2d(512, eps=1e-05, momentum=0.1, affine=True, track_running_stats=True)\n",
              "      (conv2): Conv2d(512, 512, kernel_size=(3, 3), stride=(1, 1), padding=(1, 1), bias=False)\n",
              "      (bn2): BatchNorm2d(512, eps=1e-05, momentum=0.1, affine=True, track_running_stats=True)\n",
              "      (conv3): Conv2d(512, 2048, kernel_size=(1, 1), stride=(1, 1), bias=False)\n",
              "      (bn3): BatchNorm2d(2048, eps=1e-05, momentum=0.1, affine=True, track_running_stats=True)\n",
              "      (relu): ReLU(inplace=True)\n",
              "    )\n",
              "  )\n",
              "  (avgpool): AdaptiveAvgPool2d(output_size=(1, 1))\n",
              "  (fc): Sequential(\n",
              "    (0): Linear(in_features=2048, out_features=128, bias=True)\n",
              "    (1): ReLU()\n",
              "    (2): Dropout(p=0.4, inplace=False)\n",
              "    (3): Linear(in_features=128, out_features=4, bias=True)\n",
              "    (4): LogSoftmax(dim=1)\n",
              "  )\n",
              ")"
            ]
          },
          "metadata": {},
          "execution_count": 19
        }
      ]
    },
    {
      "cell_type": "code",
      "metadata": {
        "id": "mV75NXcxPdbk",
        "colab": {
          "base_uri": "https://localhost:8080/"
        },
        "outputId": "bd4c83e6-30f6-479f-b482-63eac7469349"
      },
      "source": [
        "model"
      ],
      "execution_count": null,
      "outputs": [
        {
          "output_type": "execute_result",
          "data": {
            "text/plain": [
              "ResNet(\n",
              "  (conv1): Conv2d(3, 64, kernel_size=(7, 7), stride=(2, 2), padding=(3, 3), bias=False)\n",
              "  (bn1): BatchNorm2d(64, eps=1e-05, momentum=0.1, affine=True, track_running_stats=True)\n",
              "  (relu): ReLU(inplace=True)\n",
              "  (maxpool): MaxPool2d(kernel_size=3, stride=2, padding=1, dilation=1, ceil_mode=False)\n",
              "  (layer1): Sequential(\n",
              "    (0): Bottleneck(\n",
              "      (conv1): Conv2d(64, 64, kernel_size=(1, 1), stride=(1, 1), bias=False)\n",
              "      (bn1): BatchNorm2d(64, eps=1e-05, momentum=0.1, affine=True, track_running_stats=True)\n",
              "      (conv2): Conv2d(64, 64, kernel_size=(3, 3), stride=(1, 1), padding=(1, 1), bias=False)\n",
              "      (bn2): BatchNorm2d(64, eps=1e-05, momentum=0.1, affine=True, track_running_stats=True)\n",
              "      (conv3): Conv2d(64, 256, kernel_size=(1, 1), stride=(1, 1), bias=False)\n",
              "      (bn3): BatchNorm2d(256, eps=1e-05, momentum=0.1, affine=True, track_running_stats=True)\n",
              "      (relu): ReLU(inplace=True)\n",
              "      (downsample): Sequential(\n",
              "        (0): Conv2d(64, 256, kernel_size=(1, 1), stride=(1, 1), bias=False)\n",
              "        (1): BatchNorm2d(256, eps=1e-05, momentum=0.1, affine=True, track_running_stats=True)\n",
              "      )\n",
              "    )\n",
              "    (1): Bottleneck(\n",
              "      (conv1): Conv2d(256, 64, kernel_size=(1, 1), stride=(1, 1), bias=False)\n",
              "      (bn1): BatchNorm2d(64, eps=1e-05, momentum=0.1, affine=True, track_running_stats=True)\n",
              "      (conv2): Conv2d(64, 64, kernel_size=(3, 3), stride=(1, 1), padding=(1, 1), bias=False)\n",
              "      (bn2): BatchNorm2d(64, eps=1e-05, momentum=0.1, affine=True, track_running_stats=True)\n",
              "      (conv3): Conv2d(64, 256, kernel_size=(1, 1), stride=(1, 1), bias=False)\n",
              "      (bn3): BatchNorm2d(256, eps=1e-05, momentum=0.1, affine=True, track_running_stats=True)\n",
              "      (relu): ReLU(inplace=True)\n",
              "    )\n",
              "    (2): Bottleneck(\n",
              "      (conv1): Conv2d(256, 64, kernel_size=(1, 1), stride=(1, 1), bias=False)\n",
              "      (bn1): BatchNorm2d(64, eps=1e-05, momentum=0.1, affine=True, track_running_stats=True)\n",
              "      (conv2): Conv2d(64, 64, kernel_size=(3, 3), stride=(1, 1), padding=(1, 1), bias=False)\n",
              "      (bn2): BatchNorm2d(64, eps=1e-05, momentum=0.1, affine=True, track_running_stats=True)\n",
              "      (conv3): Conv2d(64, 256, kernel_size=(1, 1), stride=(1, 1), bias=False)\n",
              "      (bn3): BatchNorm2d(256, eps=1e-05, momentum=0.1, affine=True, track_running_stats=True)\n",
              "      (relu): ReLU(inplace=True)\n",
              "    )\n",
              "  )\n",
              "  (layer2): Sequential(\n",
              "    (0): Bottleneck(\n",
              "      (conv1): Conv2d(256, 128, kernel_size=(1, 1), stride=(1, 1), bias=False)\n",
              "      (bn1): BatchNorm2d(128, eps=1e-05, momentum=0.1, affine=True, track_running_stats=True)\n",
              "      (conv2): Conv2d(128, 128, kernel_size=(3, 3), stride=(2, 2), padding=(1, 1), bias=False)\n",
              "      (bn2): BatchNorm2d(128, eps=1e-05, momentum=0.1, affine=True, track_running_stats=True)\n",
              "      (conv3): Conv2d(128, 512, kernel_size=(1, 1), stride=(1, 1), bias=False)\n",
              "      (bn3): BatchNorm2d(512, eps=1e-05, momentum=0.1, affine=True, track_running_stats=True)\n",
              "      (relu): ReLU(inplace=True)\n",
              "      (downsample): Sequential(\n",
              "        (0): Conv2d(256, 512, kernel_size=(1, 1), stride=(2, 2), bias=False)\n",
              "        (1): BatchNorm2d(512, eps=1e-05, momentum=0.1, affine=True, track_running_stats=True)\n",
              "      )\n",
              "    )\n",
              "    (1): Bottleneck(\n",
              "      (conv1): Conv2d(512, 128, kernel_size=(1, 1), stride=(1, 1), bias=False)\n",
              "      (bn1): BatchNorm2d(128, eps=1e-05, momentum=0.1, affine=True, track_running_stats=True)\n",
              "      (conv2): Conv2d(128, 128, kernel_size=(3, 3), stride=(1, 1), padding=(1, 1), bias=False)\n",
              "      (bn2): BatchNorm2d(128, eps=1e-05, momentum=0.1, affine=True, track_running_stats=True)\n",
              "      (conv3): Conv2d(128, 512, kernel_size=(1, 1), stride=(1, 1), bias=False)\n",
              "      (bn3): BatchNorm2d(512, eps=1e-05, momentum=0.1, affine=True, track_running_stats=True)\n",
              "      (relu): ReLU(inplace=True)\n",
              "    )\n",
              "    (2): Bottleneck(\n",
              "      (conv1): Conv2d(512, 128, kernel_size=(1, 1), stride=(1, 1), bias=False)\n",
              "      (bn1): BatchNorm2d(128, eps=1e-05, momentum=0.1, affine=True, track_running_stats=True)\n",
              "      (conv2): Conv2d(128, 128, kernel_size=(3, 3), stride=(1, 1), padding=(1, 1), bias=False)\n",
              "      (bn2): BatchNorm2d(128, eps=1e-05, momentum=0.1, affine=True, track_running_stats=True)\n",
              "      (conv3): Conv2d(128, 512, kernel_size=(1, 1), stride=(1, 1), bias=False)\n",
              "      (bn3): BatchNorm2d(512, eps=1e-05, momentum=0.1, affine=True, track_running_stats=True)\n",
              "      (relu): ReLU(inplace=True)\n",
              "    )\n",
              "    (3): Bottleneck(\n",
              "      (conv1): Conv2d(512, 128, kernel_size=(1, 1), stride=(1, 1), bias=False)\n",
              "      (bn1): BatchNorm2d(128, eps=1e-05, momentum=0.1, affine=True, track_running_stats=True)\n",
              "      (conv2): Conv2d(128, 128, kernel_size=(3, 3), stride=(1, 1), padding=(1, 1), bias=False)\n",
              "      (bn2): BatchNorm2d(128, eps=1e-05, momentum=0.1, affine=True, track_running_stats=True)\n",
              "      (conv3): Conv2d(128, 512, kernel_size=(1, 1), stride=(1, 1), bias=False)\n",
              "      (bn3): BatchNorm2d(512, eps=1e-05, momentum=0.1, affine=True, track_running_stats=True)\n",
              "      (relu): ReLU(inplace=True)\n",
              "    )\n",
              "  )\n",
              "  (layer3): Sequential(\n",
              "    (0): Bottleneck(\n",
              "      (conv1): Conv2d(512, 256, kernel_size=(1, 1), stride=(1, 1), bias=False)\n",
              "      (bn1): BatchNorm2d(256, eps=1e-05, momentum=0.1, affine=True, track_running_stats=True)\n",
              "      (conv2): Conv2d(256, 256, kernel_size=(3, 3), stride=(2, 2), padding=(1, 1), bias=False)\n",
              "      (bn2): BatchNorm2d(256, eps=1e-05, momentum=0.1, affine=True, track_running_stats=True)\n",
              "      (conv3): Conv2d(256, 1024, kernel_size=(1, 1), stride=(1, 1), bias=False)\n",
              "      (bn3): BatchNorm2d(1024, eps=1e-05, momentum=0.1, affine=True, track_running_stats=True)\n",
              "      (relu): ReLU(inplace=True)\n",
              "      (downsample): Sequential(\n",
              "        (0): Conv2d(512, 1024, kernel_size=(1, 1), stride=(2, 2), bias=False)\n",
              "        (1): BatchNorm2d(1024, eps=1e-05, momentum=0.1, affine=True, track_running_stats=True)\n",
              "      )\n",
              "    )\n",
              "    (1): Bottleneck(\n",
              "      (conv1): Conv2d(1024, 256, kernel_size=(1, 1), stride=(1, 1), bias=False)\n",
              "      (bn1): BatchNorm2d(256, eps=1e-05, momentum=0.1, affine=True, track_running_stats=True)\n",
              "      (conv2): Conv2d(256, 256, kernel_size=(3, 3), stride=(1, 1), padding=(1, 1), bias=False)\n",
              "      (bn2): BatchNorm2d(256, eps=1e-05, momentum=0.1, affine=True, track_running_stats=True)\n",
              "      (conv3): Conv2d(256, 1024, kernel_size=(1, 1), stride=(1, 1), bias=False)\n",
              "      (bn3): BatchNorm2d(1024, eps=1e-05, momentum=0.1, affine=True, track_running_stats=True)\n",
              "      (relu): ReLU(inplace=True)\n",
              "    )\n",
              "    (2): Bottleneck(\n",
              "      (conv1): Conv2d(1024, 256, kernel_size=(1, 1), stride=(1, 1), bias=False)\n",
              "      (bn1): BatchNorm2d(256, eps=1e-05, momentum=0.1, affine=True, track_running_stats=True)\n",
              "      (conv2): Conv2d(256, 256, kernel_size=(3, 3), stride=(1, 1), padding=(1, 1), bias=False)\n",
              "      (bn2): BatchNorm2d(256, eps=1e-05, momentum=0.1, affine=True, track_running_stats=True)\n",
              "      (conv3): Conv2d(256, 1024, kernel_size=(1, 1), stride=(1, 1), bias=False)\n",
              "      (bn3): BatchNorm2d(1024, eps=1e-05, momentum=0.1, affine=True, track_running_stats=True)\n",
              "      (relu): ReLU(inplace=True)\n",
              "    )\n",
              "    (3): Bottleneck(\n",
              "      (conv1): Conv2d(1024, 256, kernel_size=(1, 1), stride=(1, 1), bias=False)\n",
              "      (bn1): BatchNorm2d(256, eps=1e-05, momentum=0.1, affine=True, track_running_stats=True)\n",
              "      (conv2): Conv2d(256, 256, kernel_size=(3, 3), stride=(1, 1), padding=(1, 1), bias=False)\n",
              "      (bn2): BatchNorm2d(256, eps=1e-05, momentum=0.1, affine=True, track_running_stats=True)\n",
              "      (conv3): Conv2d(256, 1024, kernel_size=(1, 1), stride=(1, 1), bias=False)\n",
              "      (bn3): BatchNorm2d(1024, eps=1e-05, momentum=0.1, affine=True, track_running_stats=True)\n",
              "      (relu): ReLU(inplace=True)\n",
              "    )\n",
              "    (4): Bottleneck(\n",
              "      (conv1): Conv2d(1024, 256, kernel_size=(1, 1), stride=(1, 1), bias=False)\n",
              "      (bn1): BatchNorm2d(256, eps=1e-05, momentum=0.1, affine=True, track_running_stats=True)\n",
              "      (conv2): Conv2d(256, 256, kernel_size=(3, 3), stride=(1, 1), padding=(1, 1), bias=False)\n",
              "      (bn2): BatchNorm2d(256, eps=1e-05, momentum=0.1, affine=True, track_running_stats=True)\n",
              "      (conv3): Conv2d(256, 1024, kernel_size=(1, 1), stride=(1, 1), bias=False)\n",
              "      (bn3): BatchNorm2d(1024, eps=1e-05, momentum=0.1, affine=True, track_running_stats=True)\n",
              "      (relu): ReLU(inplace=True)\n",
              "    )\n",
              "    (5): Bottleneck(\n",
              "      (conv1): Conv2d(1024, 256, kernel_size=(1, 1), stride=(1, 1), bias=False)\n",
              "      (bn1): BatchNorm2d(256, eps=1e-05, momentum=0.1, affine=True, track_running_stats=True)\n",
              "      (conv2): Conv2d(256, 256, kernel_size=(3, 3), stride=(1, 1), padding=(1, 1), bias=False)\n",
              "      (bn2): BatchNorm2d(256, eps=1e-05, momentum=0.1, affine=True, track_running_stats=True)\n",
              "      (conv3): Conv2d(256, 1024, kernel_size=(1, 1), stride=(1, 1), bias=False)\n",
              "      (bn3): BatchNorm2d(1024, eps=1e-05, momentum=0.1, affine=True, track_running_stats=True)\n",
              "      (relu): ReLU(inplace=True)\n",
              "    )\n",
              "  )\n",
              "  (layer4): Sequential(\n",
              "    (0): Bottleneck(\n",
              "      (conv1): Conv2d(1024, 512, kernel_size=(1, 1), stride=(1, 1), bias=False)\n",
              "      (bn1): BatchNorm2d(512, eps=1e-05, momentum=0.1, affine=True, track_running_stats=True)\n",
              "      (conv2): Conv2d(512, 512, kernel_size=(3, 3), stride=(2, 2), padding=(1, 1), bias=False)\n",
              "      (bn2): BatchNorm2d(512, eps=1e-05, momentum=0.1, affine=True, track_running_stats=True)\n",
              "      (conv3): Conv2d(512, 2048, kernel_size=(1, 1), stride=(1, 1), bias=False)\n",
              "      (bn3): BatchNorm2d(2048, eps=1e-05, momentum=0.1, affine=True, track_running_stats=True)\n",
              "      (relu): ReLU(inplace=True)\n",
              "      (downsample): Sequential(\n",
              "        (0): Conv2d(1024, 2048, kernel_size=(1, 1), stride=(2, 2), bias=False)\n",
              "        (1): BatchNorm2d(2048, eps=1e-05, momentum=0.1, affine=True, track_running_stats=True)\n",
              "      )\n",
              "    )\n",
              "    (1): Bottleneck(\n",
              "      (conv1): Conv2d(2048, 512, kernel_size=(1, 1), stride=(1, 1), bias=False)\n",
              "      (bn1): BatchNorm2d(512, eps=1e-05, momentum=0.1, affine=True, track_running_stats=True)\n",
              "      (conv2): Conv2d(512, 512, kernel_size=(3, 3), stride=(1, 1), padding=(1, 1), bias=False)\n",
              "      (bn2): BatchNorm2d(512, eps=1e-05, momentum=0.1, affine=True, track_running_stats=True)\n",
              "      (conv3): Conv2d(512, 2048, kernel_size=(1, 1), stride=(1, 1), bias=False)\n",
              "      (bn3): BatchNorm2d(2048, eps=1e-05, momentum=0.1, affine=True, track_running_stats=True)\n",
              "      (relu): ReLU(inplace=True)\n",
              "    )\n",
              "    (2): Bottleneck(\n",
              "      (conv1): Conv2d(2048, 512, kernel_size=(1, 1), stride=(1, 1), bias=False)\n",
              "      (bn1): BatchNorm2d(512, eps=1e-05, momentum=0.1, affine=True, track_running_stats=True)\n",
              "      (conv2): Conv2d(512, 512, kernel_size=(3, 3), stride=(1, 1), padding=(1, 1), bias=False)\n",
              "      (bn2): BatchNorm2d(512, eps=1e-05, momentum=0.1, affine=True, track_running_stats=True)\n",
              "      (conv3): Conv2d(512, 2048, kernel_size=(1, 1), stride=(1, 1), bias=False)\n",
              "      (bn3): BatchNorm2d(2048, eps=1e-05, momentum=0.1, affine=True, track_running_stats=True)\n",
              "      (relu): ReLU(inplace=True)\n",
              "    )\n",
              "  )\n",
              "  (avgpool): AdaptiveAvgPool2d(output_size=(1, 1))\n",
              "  (fc): Sequential(\n",
              "    (0): Linear(in_features=2048, out_features=128, bias=True)\n",
              "    (1): ReLU()\n",
              "    (2): Dropout(p=0.4, inplace=False)\n",
              "    (3): Linear(in_features=128, out_features=4, bias=True)\n",
              "    (4): LogSoftmax(dim=1)\n",
              "  )\n",
              ")"
            ]
          },
          "metadata": {},
          "execution_count": 20
        }
      ]
    },
    {
      "cell_type": "code",
      "metadata": {
        "id": "vmhXEg4mYSfL"
      },
      "source": [
        "def accuracy(inputs, labels):\n",
        "  _, pred = torch.max(inputs, dim=1)\n",
        "  matches = torch.sum(pred.cuda() == labels.cuda()).item()/len(pred)\n",
        "  return matches \n"
      ],
      "execution_count": null,
      "outputs": []
    },
    {
      "cell_type": "code",
      "metadata": {
        "id": "d6NFR-9h_eh9",
        "colab": {
          "base_uri": "https://localhost:8080/"
        },
        "outputId": "b0c1ca25-4e5c-4b59-b6dd-94b4afc08785"
      },
      "source": [
        "! pip install torchmetrics"
      ],
      "execution_count": null,
      "outputs": [
        {
          "output_type": "stream",
          "name": "stdout",
          "text": [
            "Collecting torchmetrics\n",
            "  Downloading torchmetrics-0.5.1-py3-none-any.whl (282 kB)\n",
            "\u001b[?25l\r\u001b[K     |█▏                              | 10 kB 24.8 MB/s eta 0:00:01\r\u001b[K     |██▎                             | 20 kB 8.0 MB/s eta 0:00:01\r\u001b[K     |███▌                            | 30 kB 6.9 MB/s eta 0:00:01\r\u001b[K     |████▋                           | 40 kB 6.3 MB/s eta 0:00:01\r\u001b[K     |█████▉                          | 51 kB 5.4 MB/s eta 0:00:01\r\u001b[K     |███████                         | 61 kB 5.5 MB/s eta 0:00:01\r\u001b[K     |████████                        | 71 kB 5.9 MB/s eta 0:00:01\r\u001b[K     |█████████▎                      | 81 kB 5.7 MB/s eta 0:00:01\r\u001b[K     |██████████▍                     | 92 kB 5.0 MB/s eta 0:00:01\r\u001b[K     |███████████▋                    | 102 kB 5.5 MB/s eta 0:00:01\r\u001b[K     |████████████▊                   | 112 kB 5.5 MB/s eta 0:00:01\r\u001b[K     |██████████████                  | 122 kB 5.5 MB/s eta 0:00:01\r\u001b[K     |███████████████                 | 133 kB 5.5 MB/s eta 0:00:01\r\u001b[K     |████████████████▏               | 143 kB 5.5 MB/s eta 0:00:01\r\u001b[K     |█████████████████▍              | 153 kB 5.5 MB/s eta 0:00:01\r\u001b[K     |██████████████████▌             | 163 kB 5.5 MB/s eta 0:00:01\r\u001b[K     |███████████████████▊            | 174 kB 5.5 MB/s eta 0:00:01\r\u001b[K     |████████████████████▉           | 184 kB 5.5 MB/s eta 0:00:01\r\u001b[K     |██████████████████████          | 194 kB 5.5 MB/s eta 0:00:01\r\u001b[K     |███████████████████████▏        | 204 kB 5.5 MB/s eta 0:00:01\r\u001b[K     |████████████████████████▎       | 215 kB 5.5 MB/s eta 0:00:01\r\u001b[K     |█████████████████████████▌      | 225 kB 5.5 MB/s eta 0:00:01\r\u001b[K     |██████████████████████████▋     | 235 kB 5.5 MB/s eta 0:00:01\r\u001b[K     |███████████████████████████▉    | 245 kB 5.5 MB/s eta 0:00:01\r\u001b[K     |█████████████████████████████   | 256 kB 5.5 MB/s eta 0:00:01\r\u001b[K     |██████████████████████████████  | 266 kB 5.5 MB/s eta 0:00:01\r\u001b[K     |███████████████████████████████▎| 276 kB 5.5 MB/s eta 0:00:01\r\u001b[K     |████████████████████████████████| 282 kB 5.5 MB/s \n",
            "\u001b[?25hRequirement already satisfied: packaging in /usr/local/lib/python3.7/dist-packages (from torchmetrics) (21.0)\n",
            "Requirement already satisfied: torch>=1.3.1 in /usr/local/lib/python3.7/dist-packages (from torchmetrics) (1.9.0+cu102)\n",
            "Requirement already satisfied: numpy>=1.17.2 in /usr/local/lib/python3.7/dist-packages (from torchmetrics) (1.19.5)\n",
            "Requirement already satisfied: typing-extensions in /usr/local/lib/python3.7/dist-packages (from torch>=1.3.1->torchmetrics) (3.7.4.3)\n",
            "Requirement already satisfied: pyparsing>=2.0.2 in /usr/local/lib/python3.7/dist-packages (from packaging->torchmetrics) (2.4.7)\n",
            "Installing collected packages: torchmetrics\n",
            "Successfully installed torchmetrics-0.5.1\n"
          ]
        }
      ]
    },
    {
      "cell_type": "code",
      "metadata": {
        "id": "X_8pNEaUAIyO"
      },
      "source": [
        "import torchmetrics\n",
        "from torchmetrics import AUROC \n"
      ],
      "execution_count": null,
      "outputs": []
    },
    {
      "cell_type": "code",
      "metadata": {
        "id": "yv-ERotKALDO"
      },
      "source": [
        "def calc_auroc(inputs, labels):\n",
        "  target = torch.reshape(labels, [235])\n",
        "  preds = torch.reshape(inputs, (235, 4))\n",
        "  auroc = AUROC(num_classes=4)\n",
        "  arc = auroc(preds, target)\n",
        "  print(arc)"
      ],
      "execution_count": null,
      "outputs": []
    },
    {
      "cell_type": "code",
      "metadata": {
        "colab": {
          "base_uri": "https://localhost:8080/"
        },
        "id": "uZ4QJ37KMhDb",
        "outputId": "b9a8bca6-63e5-46ce-c6c5-d7b00dc0b69f"
      },
      "source": [
        "! pip install tensorflow_addons"
      ],
      "execution_count": null,
      "outputs": [
        {
          "output_type": "stream",
          "name": "stdout",
          "text": [
            "Collecting tensorflow_addons\n",
            "  Downloading tensorflow_addons-0.14.0-cp37-cp37m-manylinux_2_12_x86_64.manylinux2010_x86_64.whl (1.1 MB)\n",
            "\u001b[?25l\r\u001b[K     |▎                               | 10 kB 25.6 MB/s eta 0:00:01\r\u001b[K     |▋                               | 20 kB 27.5 MB/s eta 0:00:01\r\u001b[K     |▉                               | 30 kB 12.0 MB/s eta 0:00:01\r\u001b[K     |█▏                              | 40 kB 9.5 MB/s eta 0:00:01\r\u001b[K     |█▌                              | 51 kB 5.2 MB/s eta 0:00:01\r\u001b[K     |█▊                              | 61 kB 5.6 MB/s eta 0:00:01\r\u001b[K     |██                              | 71 kB 6.0 MB/s eta 0:00:01\r\u001b[K     |██▍                             | 81 kB 6.8 MB/s eta 0:00:01\r\u001b[K     |██▋                             | 92 kB 6.5 MB/s eta 0:00:01\r\u001b[K     |███                             | 102 kB 5.4 MB/s eta 0:00:01\r\u001b[K     |███▎                            | 112 kB 5.4 MB/s eta 0:00:01\r\u001b[K     |███▌                            | 122 kB 5.4 MB/s eta 0:00:01\r\u001b[K     |███▉                            | 133 kB 5.4 MB/s eta 0:00:01\r\u001b[K     |████▏                           | 143 kB 5.4 MB/s eta 0:00:01\r\u001b[K     |████▍                           | 153 kB 5.4 MB/s eta 0:00:01\r\u001b[K     |████▊                           | 163 kB 5.4 MB/s eta 0:00:01\r\u001b[K     |█████                           | 174 kB 5.4 MB/s eta 0:00:01\r\u001b[K     |█████▎                          | 184 kB 5.4 MB/s eta 0:00:01\r\u001b[K     |█████▋                          | 194 kB 5.4 MB/s eta 0:00:01\r\u001b[K     |██████                          | 204 kB 5.4 MB/s eta 0:00:01\r\u001b[K     |██████▏                         | 215 kB 5.4 MB/s eta 0:00:01\r\u001b[K     |██████▌                         | 225 kB 5.4 MB/s eta 0:00:01\r\u001b[K     |██████▉                         | 235 kB 5.4 MB/s eta 0:00:01\r\u001b[K     |███████                         | 245 kB 5.4 MB/s eta 0:00:01\r\u001b[K     |███████▍                        | 256 kB 5.4 MB/s eta 0:00:01\r\u001b[K     |███████▊                        | 266 kB 5.4 MB/s eta 0:00:01\r\u001b[K     |████████                        | 276 kB 5.4 MB/s eta 0:00:01\r\u001b[K     |████████▎                       | 286 kB 5.4 MB/s eta 0:00:01\r\u001b[K     |████████▋                       | 296 kB 5.4 MB/s eta 0:00:01\r\u001b[K     |████████▉                       | 307 kB 5.4 MB/s eta 0:00:01\r\u001b[K     |█████████▏                      | 317 kB 5.4 MB/s eta 0:00:01\r\u001b[K     |█████████▌                      | 327 kB 5.4 MB/s eta 0:00:01\r\u001b[K     |█████████▊                      | 337 kB 5.4 MB/s eta 0:00:01\r\u001b[K     |██████████                      | 348 kB 5.4 MB/s eta 0:00:01\r\u001b[K     |██████████▍                     | 358 kB 5.4 MB/s eta 0:00:01\r\u001b[K     |██████████▋                     | 368 kB 5.4 MB/s eta 0:00:01\r\u001b[K     |███████████                     | 378 kB 5.4 MB/s eta 0:00:01\r\u001b[K     |███████████▎                    | 389 kB 5.4 MB/s eta 0:00:01\r\u001b[K     |███████████▌                    | 399 kB 5.4 MB/s eta 0:00:01\r\u001b[K     |███████████▉                    | 409 kB 5.4 MB/s eta 0:00:01\r\u001b[K     |████████████▏                   | 419 kB 5.4 MB/s eta 0:00:01\r\u001b[K     |████████████▍                   | 430 kB 5.4 MB/s eta 0:00:01\r\u001b[K     |████████████▊                   | 440 kB 5.4 MB/s eta 0:00:01\r\u001b[K     |█████████████                   | 450 kB 5.4 MB/s eta 0:00:01\r\u001b[K     |█████████████▎                  | 460 kB 5.4 MB/s eta 0:00:01\r\u001b[K     |█████████████▋                  | 471 kB 5.4 MB/s eta 0:00:01\r\u001b[K     |██████████████                  | 481 kB 5.4 MB/s eta 0:00:01\r\u001b[K     |██████████████▏                 | 491 kB 5.4 MB/s eta 0:00:01\r\u001b[K     |██████████████▌                 | 501 kB 5.4 MB/s eta 0:00:01\r\u001b[K     |██████████████▉                 | 512 kB 5.4 MB/s eta 0:00:01\r\u001b[K     |███████████████                 | 522 kB 5.4 MB/s eta 0:00:01\r\u001b[K     |███████████████▍                | 532 kB 5.4 MB/s eta 0:00:01\r\u001b[K     |███████████████▊                | 542 kB 5.4 MB/s eta 0:00:01\r\u001b[K     |████████████████                | 552 kB 5.4 MB/s eta 0:00:01\r\u001b[K     |████████████████▎               | 563 kB 5.4 MB/s eta 0:00:01\r\u001b[K     |████████████████▋               | 573 kB 5.4 MB/s eta 0:00:01\r\u001b[K     |████████████████▉               | 583 kB 5.4 MB/s eta 0:00:01\r\u001b[K     |█████████████████▏              | 593 kB 5.4 MB/s eta 0:00:01\r\u001b[K     |█████████████████▌              | 604 kB 5.4 MB/s eta 0:00:01\r\u001b[K     |█████████████████▊              | 614 kB 5.4 MB/s eta 0:00:01\r\u001b[K     |██████████████████              | 624 kB 5.4 MB/s eta 0:00:01\r\u001b[K     |██████████████████▍             | 634 kB 5.4 MB/s eta 0:00:01\r\u001b[K     |██████████████████▋             | 645 kB 5.4 MB/s eta 0:00:01\r\u001b[K     |███████████████████             | 655 kB 5.4 MB/s eta 0:00:01\r\u001b[K     |███████████████████▎            | 665 kB 5.4 MB/s eta 0:00:01\r\u001b[K     |███████████████████▌            | 675 kB 5.4 MB/s eta 0:00:01\r\u001b[K     |███████████████████▉            | 686 kB 5.4 MB/s eta 0:00:01\r\u001b[K     |████████████████████▏           | 696 kB 5.4 MB/s eta 0:00:01\r\u001b[K     |████████████████████▍           | 706 kB 5.4 MB/s eta 0:00:01\r\u001b[K     |████████████████████▊           | 716 kB 5.4 MB/s eta 0:00:01\r\u001b[K     |█████████████████████           | 727 kB 5.4 MB/s eta 0:00:01\r\u001b[K     |█████████████████████▎          | 737 kB 5.4 MB/s eta 0:00:01\r\u001b[K     |█████████████████████▋          | 747 kB 5.4 MB/s eta 0:00:01\r\u001b[K     |██████████████████████          | 757 kB 5.4 MB/s eta 0:00:01\r\u001b[K     |██████████████████████▏         | 768 kB 5.4 MB/s eta 0:00:01\r\u001b[K     |██████████████████████▌         | 778 kB 5.4 MB/s eta 0:00:01\r\u001b[K     |██████████████████████▉         | 788 kB 5.4 MB/s eta 0:00:01\r\u001b[K     |███████████████████████         | 798 kB 5.4 MB/s eta 0:00:01\r\u001b[K     |███████████████████████▍        | 808 kB 5.4 MB/s eta 0:00:01\r\u001b[K     |███████████████████████▊        | 819 kB 5.4 MB/s eta 0:00:01\r\u001b[K     |████████████████████████        | 829 kB 5.4 MB/s eta 0:00:01\r\u001b[K     |████████████████████████▎       | 839 kB 5.4 MB/s eta 0:00:01\r\u001b[K     |████████████████████████▋       | 849 kB 5.4 MB/s eta 0:00:01\r\u001b[K     |████████████████████████▉       | 860 kB 5.4 MB/s eta 0:00:01\r\u001b[K     |█████████████████████████▏      | 870 kB 5.4 MB/s eta 0:00:01\r\u001b[K     |█████████████████████████▍      | 880 kB 5.4 MB/s eta 0:00:01\r\u001b[K     |█████████████████████████▊      | 890 kB 5.4 MB/s eta 0:00:01\r\u001b[K     |██████████████████████████      | 901 kB 5.4 MB/s eta 0:00:01\r\u001b[K     |██████████████████████████▎     | 911 kB 5.4 MB/s eta 0:00:01\r\u001b[K     |██████████████████████████▋     | 921 kB 5.4 MB/s eta 0:00:01\r\u001b[K     |███████████████████████████     | 931 kB 5.4 MB/s eta 0:00:01\r\u001b[K     |███████████████████████████▏    | 942 kB 5.4 MB/s eta 0:00:01\r\u001b[K     |███████████████████████████▌    | 952 kB 5.4 MB/s eta 0:00:01\r\u001b[K     |███████████████████████████▉    | 962 kB 5.4 MB/s eta 0:00:01\r\u001b[K     |████████████████████████████    | 972 kB 5.4 MB/s eta 0:00:01\r\u001b[K     |████████████████████████████▍   | 983 kB 5.4 MB/s eta 0:00:01\r\u001b[K     |████████████████████████████▊   | 993 kB 5.4 MB/s eta 0:00:01\r\u001b[K     |█████████████████████████████   | 1.0 MB 5.4 MB/s eta 0:00:01\r\u001b[K     |█████████████████████████████▎  | 1.0 MB 5.4 MB/s eta 0:00:01\r\u001b[K     |█████████████████████████████▋  | 1.0 MB 5.4 MB/s eta 0:00:01\r\u001b[K     |█████████████████████████████▉  | 1.0 MB 5.4 MB/s eta 0:00:01\r\u001b[K     |██████████████████████████████▏ | 1.0 MB 5.4 MB/s eta 0:00:01\r\u001b[K     |██████████████████████████████▌ | 1.1 MB 5.4 MB/s eta 0:00:01\r\u001b[K     |██████████████████████████████▊ | 1.1 MB 5.4 MB/s eta 0:00:01\r\u001b[K     |███████████████████████████████ | 1.1 MB 5.4 MB/s eta 0:00:01\r\u001b[K     |███████████████████████████████▍| 1.1 MB 5.4 MB/s eta 0:00:01\r\u001b[K     |███████████████████████████████▋| 1.1 MB 5.4 MB/s eta 0:00:01\r\u001b[K     |████████████████████████████████| 1.1 MB 5.4 MB/s eta 0:00:01\r\u001b[K     |████████████████████████████████| 1.1 MB 5.4 MB/s \n",
            "\u001b[?25hRequirement already satisfied: typeguard>=2.7 in /usr/local/lib/python3.7/dist-packages (from tensorflow_addons) (2.7.1)\n",
            "Installing collected packages: tensorflow-addons\n",
            "Successfully installed tensorflow-addons-0.14.0\n"
          ]
        }
      ]
    },
    {
      "cell_type": "code",
      "metadata": {
        "id": "Uee-6NY8KsJS"
      },
      "source": [
        "\n",
        "import tensorflow_addons as tfa"
      ],
      "execution_count": null,
      "outputs": []
    },
    {
      "cell_type": "code",
      "metadata": {
        "id": "u8SCesl7KVtF"
      },
      "source": [
        "#custom loss func for imbalanced dataset\n",
        "import math\n",
        "def cust_loss_func(b, alpha, gamma, pred, label):\n",
        "  ce_loss = F.cross_entropy(pred, label, reduction= \"mean\", weight= torch.tensor([b*math.log(235/60), b*math.log(235/20), b*math.log(235/80) , b*math.log(235/75)], device= 'cuda'))\n",
        "  ce_loss = F.cross_entropy(pred, label, reduction= 'mean')\n",
        "  pt = torch.exp(-ce_loss)\n",
        "  focal_loss = (alpha*(1 - pt) ** gamma * ce_loss).mean()\n",
        "  return ce_loss"
      ],
      "execution_count": null,
      "outputs": []
    },
    {
      "cell_type": "code",
      "metadata": {
        "id": "0saNsiUOwf0H"
      },
      "source": [
        "import torch.nn.functional as F\n",
        "def train(config):\n",
        "  #loss_func = nn.NLLLoss()\n",
        "  #loss_func = torch.optim.SGD()\n",
        "  optim_func = torch.optim.Adam\n",
        "  #optim_func = torch.optim.SGD\n",
        "  optimizer = optim_func(model.parameters(), lr= config[\"lr\"], weight_decay= config[\"weight_decay\"])\n",
        "  #scheduler = torch.optim.lr_scheduler.OneCycleLR(optimizer, 0.001, epochs=10, steps_per_epoch=len(train_dl))\n",
        "  #scheduler = torch.optim.lr_scheduler.  \n",
        "  num_epochs = 15\n",
        "  #lr = 5e-5\n",
        "  train_loss = []\n",
        "  val_loss = []\n",
        "  val_acc = []\n",
        "  b = config[\"b\"]\n",
        "  for i in range(num_epochs):\n",
        "    model.train()\n",
        "    predictions = []\n",
        "    labels = []\n",
        "    for batch, label in train_dl:\n",
        "      optimizer.zero_grad()\n",
        "      output = model(batch.cuda())\n",
        "      loss = cust_loss_func(b,0.2, 2, output.cuda(), label.cuda())\n",
        "      train_loss.append(loss)\n",
        "      loss.backward()\n",
        "      optimizer.step()\n",
        "    #scheduler.step()\n",
        "    print(\"Train_Loss = \" + str(sum(train_loss)/len(train_loss)))\n",
        "    model.eval()\n",
        "    with torch.no_grad():\n",
        "      for batch , label in val_dl:\n",
        "        output = model(batch.cuda())\n",
        "        predictions.append(output)\n",
        "        labels.append(label)\n",
        "        loss = cust_loss_func(b, 0.2, 2, output.cuda(), label.cuda())\n",
        "        val_loss.append(loss)\n",
        "        acc = accuracy(output.cuda(), label.cuda())\n",
        "        val_acc.append(acc)\n",
        "    print(\"Val_Loss = \" + str(sum(val_loss)/len(val_loss)))\n",
        "    print(\"Val_Accuracy = \" + str(sum(val_acc)/len(val_acc)))\n",
        "    predictions_ = torch.stack(predictions)\n",
        "    labels_ = torch.stack(labels)\n",
        "    calc_auroc(predictions_.cuda(), labels_.cuda())\n",
        "    print(\" Training_Loss = \" + str(sum(train_loss)/len(train_loss)), \" Validation_Loss = \" + str(sum(val_loss)/len(val_loss)))"
      ],
      "execution_count": null,
      "outputs": []
    },
    {
      "cell_type": "code",
      "metadata": {
        "id": "HlUMJWGm0S12"
      },
      "source": [
        "config_trial = {\n",
        "    \"b\" : 3.07,\n",
        "    \"lr\" : 6e-4,\n",
        "    \"weight_decay\" : 1e-4\n",
        "}"
      ],
      "execution_count": null,
      "outputs": []
    },
    {
      "cell_type": "code",
      "metadata": {
        "colab": {
          "base_uri": "https://localhost:8080/"
        },
        "id": "3_JUU3QH0pXM",
        "outputId": "0f085c2c-a3f5-4e7a-d18a-f6071afd4f78"
      },
      "source": [
        "train(config_trial)"
      ],
      "execution_count": null,
      "outputs": [
        {
          "output_type": "stream",
          "name": "stderr",
          "text": [
            "/usr/local/lib/python3.7/dist-packages/torch/nn/functional.py:718: UserWarning: Named tensors and all their associated APIs are an experimental feature and subject to change. Please do not use them for anything important until they are released as stable. (Triggered internally at  /pytorch/c10/core/TensorImpl.h:1156.)\n",
            "  return torch.max_pool2d(input, kernel_size, stride, padding, dilation, ceil_mode)\n"
          ]
        },
        {
          "output_type": "stream",
          "name": "stdout",
          "text": [
            "\u001b[2m\u001b[36m(pid=2804)\u001b[0m Train_Loss = tensor(1.1560, device='cuda:0', grad_fn=<DivBackward0>)\n",
            "\u001b[2m\u001b[36m(pid=2804)\u001b[0m Val_Loss = tensor(1.0661, device='cuda:0')\n",
            "\u001b[2m\u001b[36m(pid=2804)\u001b[0m Val_Accuracy = 0.7617021276595739\n",
            "\u001b[2m\u001b[36m(pid=2804)\u001b[0m tensor(0.8994, device='cuda:0')\n",
            "\u001b[2m\u001b[36m(pid=2804)\u001b[0m  Training_Loss = tensor(1.1560, device='cuda:0', grad_fn=<DivBackward0>)  Validation_Loss = tensor(1.0661, device='cuda:0')\n",
            "Train_Loss = tensor(1.2101, device='cuda:0', grad_fn=<DivBackward0>)\n",
            "Val_Loss = tensor(1.0797, device='cuda:0')\n",
            "Val_Accuracy = 0.5829787234042555\n",
            "tensor(0.8892, device='cuda:0')\n",
            " Training_Loss = tensor(1.2101, device='cuda:0', grad_fn=<DivBackward0>)  Validation_Loss = tensor(1.0797, device='cuda:0')\n"
          ]
        },
        {
          "output_type": "stream",
          "name": "stderr",
          "text": [
            "/usr/local/lib/python3.7/dist-packages/torchmetrics/utilities/prints.py:36: UserWarning: Metric `AUROC` will save all targets and predictions in buffer. For large datasets this may lead to large memory footprint.\n",
            "  warnings.warn(*args, **kwargs)\n"
          ]
        },
        {
          "output_type": "stream",
          "name": "stdout",
          "text": [
            "\u001b[2m\u001b[36m(pid=2804)\u001b[0m Train_Loss = tensor(1.1003, device='cuda:0', grad_fn=<DivBackward0>)\n",
            "\u001b[2m\u001b[36m(pid=2804)\u001b[0m Val_Loss = tensor(1.0010, device='cuda:0')\n",
            "\u001b[2m\u001b[36m(pid=2804)\u001b[0m Val_Accuracy = 0.7617021276595736\n",
            "\u001b[2m\u001b[36m(pid=2804)\u001b[0m tensor(0.9044, device='cuda:0')\n",
            "\u001b[2m\u001b[36m(pid=2804)\u001b[0m  Training_Loss = tensor(1.1003, device='cuda:0', grad_fn=<DivBackward0>)  Validation_Loss = tensor(1.0010, device='cuda:0')\n",
            "Train_Loss = tensor(1.1344, device='cuda:0', grad_fn=<DivBackward0>)\n",
            "Val_Loss = tensor(0.9604, device='cuda:0')\n",
            "Val_Accuracy = 0.6808510638297869\n",
            "tensor(0.9048, device='cuda:0')\n",
            " Training_Loss = tensor(1.1344, device='cuda:0', grad_fn=<DivBackward0>)  Validation_Loss = tensor(0.9604, device='cuda:0')\n",
            "\u001b[2m\u001b[36m(pid=2804)\u001b[0m Train_Loss = tensor(1.0660, device='cuda:0', grad_fn=<DivBackward0>)\n",
            "\u001b[2m\u001b[36m(pid=2804)\u001b[0m Val_Loss = tensor(0.9568, device='cuda:0')\n",
            "\u001b[2m\u001b[36m(pid=2804)\u001b[0m Val_Accuracy = 0.7712765957446804\n",
            "\u001b[2m\u001b[36m(pid=2804)\u001b[0m tensor(0.9201, device='cuda:0')\n",
            "\u001b[2m\u001b[36m(pid=2804)\u001b[0m  Training_Loss = tensor(1.0660, device='cuda:0', grad_fn=<DivBackward0>)  Validation_Loss = tensor(0.9568, device='cuda:0')\n",
            "Train_Loss = tensor(1.0727, device='cuda:0', grad_fn=<DivBackward0>)\n",
            "Val_Loss = tensor(0.9090, device='cuda:0')\n",
            "Val_Accuracy = 0.7049645390070914\n",
            "tensor(0.9069, device='cuda:0')\n",
            " Training_Loss = tensor(1.0727, device='cuda:0', grad_fn=<DivBackward0>)  Validation_Loss = tensor(0.9090, device='cuda:0')\n",
            "\u001b[2m\u001b[36m(pid=2804)\u001b[0m Train_Loss = tensor(1.0330, device='cuda:0', grad_fn=<DivBackward0>)\n",
            "\u001b[2m\u001b[36m(pid=2804)\u001b[0m Val_Loss = tensor(0.9309, device='cuda:0')\n",
            "\u001b[2m\u001b[36m(pid=2804)\u001b[0m Val_Accuracy = 0.7710638297872341\n",
            "\u001b[2m\u001b[36m(pid=2804)\u001b[0m tensor(0.9200, device='cuda:0')\n",
            "\u001b[2m\u001b[36m(pid=2804)\u001b[0m  Training_Loss = tensor(1.0330, device='cuda:0', grad_fn=<DivBackward0>)  Validation_Loss = tensor(0.9309, device='cuda:0')\n",
            "Train_Loss = tensor(1.0422, device='cuda:0', grad_fn=<DivBackward0>)\n",
            "Val_Loss = tensor(0.8793, device='cuda:0')\n",
            "Val_Accuracy = 0.7191489361702121\n",
            "tensor(0.9108, device='cuda:0')\n",
            " Training_Loss = tensor(1.0422, device='cuda:0', grad_fn=<DivBackward0>)  Validation_Loss = tensor(0.8793, device='cuda:0')\n",
            "\u001b[2m\u001b[36m(pid=2804)\u001b[0m Train_Loss = tensor(1.0081, device='cuda:0', grad_fn=<DivBackward0>)\n",
            "\u001b[2m\u001b[36m(pid=2804)\u001b[0m Val_Loss = tensor(0.9066, device='cuda:0')\n",
            "\u001b[2m\u001b[36m(pid=2804)\u001b[0m Val_Accuracy = 0.7723404255319156\n",
            "\u001b[2m\u001b[36m(pid=2804)\u001b[0m tensor(0.9108, device='cuda:0')\n",
            "\u001b[2m\u001b[36m(pid=2804)\u001b[0m  Training_Loss = tensor(1.0081, device='cuda:0', grad_fn=<DivBackward0>)  Validation_Loss = tensor(0.9066, device='cuda:0')\n",
            "Train_Loss = tensor(1.0109, device='cuda:0', grad_fn=<DivBackward0>)\n",
            "Val_Loss = tensor(0.8579, device='cuda:0')\n",
            "Val_Accuracy = 0.7276595744680854\n",
            "tensor(0.9163, device='cuda:0')\n",
            " Training_Loss = tensor(1.0109, device='cuda:0', grad_fn=<DivBackward0>)  Validation_Loss = tensor(0.8579, device='cuda:0')\n",
            "\u001b[2m\u001b[36m(pid=2804)\u001b[0m Train_Loss = tensor(0.9852, device='cuda:0', grad_fn=<DivBackward0>)\n",
            "\u001b[2m\u001b[36m(pid=2804)\u001b[0m Val_Loss = tensor(0.8919, device='cuda:0')\n",
            "\u001b[2m\u001b[36m(pid=2804)\u001b[0m Val_Accuracy = 0.770212765957448\n",
            "\u001b[2m\u001b[36m(pid=2804)\u001b[0m tensor(0.9127, device='cuda:0')\n",
            "\u001b[2m\u001b[36m(pid=2804)\u001b[0m  Training_Loss = tensor(0.9852, device='cuda:0', grad_fn=<DivBackward0>)  Validation_Loss = tensor(0.8919, device='cuda:0')\n",
            "Train_Loss = tensor(0.9897, device='cuda:0', grad_fn=<DivBackward0>)\n",
            "Val_Loss = tensor(0.8334, device='cuda:0')\n",
            "Val_Accuracy = 0.7418439716312065\n",
            "tensor(0.9130, device='cuda:0')\n",
            " Training_Loss = tensor(0.9897, device='cuda:0', grad_fn=<DivBackward0>)  Validation_Loss = tensor(0.8334, device='cuda:0')\n",
            "\u001b[2m\u001b[36m(pid=2804)\u001b[0m Train_Loss = tensor(0.9648, device='cuda:0', grad_fn=<DivBackward0>)\n",
            "\u001b[2m\u001b[36m(pid=2804)\u001b[0m Val_Loss = tensor(0.8820, device='cuda:0')\n",
            "\u001b[2m\u001b[36m(pid=2804)\u001b[0m Val_Accuracy = 0.7664893617021299\n",
            "\u001b[2m\u001b[36m(pid=2804)\u001b[0m tensor(0.9044, device='cuda:0')\n",
            "\u001b[2m\u001b[36m(pid=2804)\u001b[0m  Training_Loss = tensor(0.9648, device='cuda:0', grad_fn=<DivBackward0>)  Validation_Loss = tensor(0.8820, device='cuda:0')\n",
            "Train_Loss = tensor(0.9762, device='cuda:0', grad_fn=<DivBackward0>)\n",
            "Val_Loss = tensor(0.8226, device='cuda:0')\n",
            "Val_Accuracy = 0.7440729483282689\n",
            "tensor(0.9126, device='cuda:0')\n",
            " Training_Loss = tensor(0.9762, device='cuda:0', grad_fn=<DivBackward0>)  Validation_Loss = tensor(0.8226, device='cuda:0')\n",
            "\u001b[2m\u001b[36m(pid=2804)\u001b[0m Train_Loss = tensor(0.9485, device='cuda:0', grad_fn=<DivBackward0>)\n",
            "\u001b[2m\u001b[36m(pid=2804)\u001b[0m Val_Loss = tensor(0.8723, device='cuda:0')\n",
            "\u001b[2m\u001b[36m(pid=2804)\u001b[0m Val_Accuracy = 0.766903073286055\n",
            "\u001b[2m\u001b[36m(pid=2804)\u001b[0m tensor(0.9108, device='cuda:0')\n",
            "\u001b[2m\u001b[36m(pid=2804)\u001b[0m  Training_Loss = tensor(0.9485, device='cuda:0', grad_fn=<DivBackward0>)  Validation_Loss = tensor(0.8723, device='cuda:0')\n",
            "Train_Loss = tensor(0.9661, device='cuda:0', grad_fn=<DivBackward0>)\n",
            "Val_Loss = tensor(0.8094, device='cuda:0')\n",
            "Val_Accuracy = 0.7505319148936193\n",
            "tensor(0.9181, device='cuda:0')\n",
            " Training_Loss = tensor(0.9661, device='cuda:0', grad_fn=<DivBackward0>)  Validation_Loss = tensor(0.8094, device='cuda:0')\n",
            "\u001b[2m\u001b[36m(pid=2804)\u001b[0m Train_Loss = tensor(0.9370, device='cuda:0', grad_fn=<DivBackward0>)\n",
            "\u001b[2m\u001b[36m(pid=2804)\u001b[0m Val_Loss = tensor(0.8558, device='cuda:0')\n",
            "\u001b[2m\u001b[36m(pid=2804)\u001b[0m Val_Accuracy = 0.7680851063829824\n",
            "\u001b[2m\u001b[36m(pid=2804)\u001b[0m tensor(0.9251, device='cuda:0')\n",
            "\u001b[2m\u001b[36m(pid=2804)\u001b[0m  Training_Loss = tensor(0.9370, device='cuda:0', grad_fn=<DivBackward0>)  Validation_Loss = tensor(0.8558, device='cuda:0')\n",
            "Train_Loss = tensor(0.9557, device='cuda:0', grad_fn=<DivBackward0>)\n",
            "Val_Loss = tensor(0.8076, device='cuda:0')\n",
            "Val_Accuracy = 0.7508274231678514\n",
            "tensor(0.9029, device='cuda:0')\n",
            " Training_Loss = tensor(0.9557, device='cuda:0', grad_fn=<DivBackward0>)  Validation_Loss = tensor(0.8076, device='cuda:0')\n",
            "\u001b[2m\u001b[36m(pid=2804)\u001b[0m Train_Loss = tensor(0.9261, device='cuda:0', grad_fn=<DivBackward0>)\n",
            "\u001b[2m\u001b[36m(pid=2804)\u001b[0m Val_Loss = tensor(0.8418, device='cuda:0')\n",
            "\u001b[2m\u001b[36m(pid=2804)\u001b[0m Val_Accuracy = 0.7686653771760198\n",
            "\u001b[2m\u001b[36m(pid=2804)\u001b[0m tensor(0.9220, device='cuda:0')\n",
            "\u001b[2m\u001b[36m(pid=2804)\u001b[0m  Training_Loss = tensor(0.9261, device='cuda:0', grad_fn=<DivBackward0>)  Validation_Loss = tensor(0.8418, device='cuda:0')\n",
            "Train_Loss = tensor(0.9491, device='cuda:0', grad_fn=<DivBackward0>)\n",
            "Val_Loss = tensor(0.8066, device='cuda:0')\n",
            "Val_Accuracy = 0.7514893617021308\n",
            "tensor(0.8973, device='cuda:0')\n",
            " Training_Loss = tensor(0.9491, device='cuda:0', grad_fn=<DivBackward0>)  Validation_Loss = tensor(0.8066, device='cuda:0')\n",
            "\u001b[2m\u001b[36m(pid=2804)\u001b[0m Train_Loss = tensor(0.9148, device='cuda:0', grad_fn=<DivBackward0>)\n",
            "\u001b[2m\u001b[36m(pid=2804)\u001b[0m Val_Loss = tensor(0.8337, device='cuda:0')\n",
            "\u001b[2m\u001b[36m(pid=2804)\u001b[0m Val_Accuracy = 0.7677304964539052\n",
            "\u001b[2m\u001b[36m(pid=2804)\u001b[0m tensor(0.9196, device='cuda:0')\n",
            "\u001b[2m\u001b[36m(pid=2804)\u001b[0m  Training_Loss = tensor(0.9148, device='cuda:0', grad_fn=<DivBackward0>)  Validation_Loss = tensor(0.8337, device='cuda:0')\n",
            "Train_Loss = tensor(0.9421, device='cuda:0', grad_fn=<DivBackward0>)\n",
            "Val_Loss = tensor(0.7991, device='cuda:0')\n",
            "Val_Accuracy = 0.7531914893617059\n",
            "tensor(0.9189, device='cuda:0')\n",
            " Training_Loss = tensor(0.9421, device='cuda:0', grad_fn=<DivBackward0>)  Validation_Loss = tensor(0.7991, device='cuda:0')\n",
            "\u001b[2m\u001b[36m(pid=2804)\u001b[0m Train_Loss = tensor(0.9070, device='cuda:0', grad_fn=<DivBackward0>)\n",
            "\u001b[2m\u001b[36m(pid=2804)\u001b[0m Val_Loss = tensor(0.8328, device='cuda:0')\n",
            "\u001b[2m\u001b[36m(pid=2804)\u001b[0m Val_Accuracy = 0.7653027823240639\n",
            "\u001b[2m\u001b[36m(pid=2804)\u001b[0m tensor(0.9101, device='cuda:0')\n",
            "\u001b[2m\u001b[36m(pid=2804)\u001b[0m  Training_Loss = tensor(0.9070, device='cuda:0', grad_fn=<DivBackward0>)  Validation_Loss = tensor(0.8328, device='cuda:0')\n",
            "Train_Loss = tensor(0.9347, device='cuda:0', grad_fn=<DivBackward0>)\n",
            "Val_Loss = tensor(0.7918, device='cuda:0')\n",
            "Val_Accuracy = 0.7560283687943304\n",
            "tensor(0.9138, device='cuda:0')\n",
            " Training_Loss = tensor(0.9347, device='cuda:0', grad_fn=<DivBackward0>)  Validation_Loss = tensor(0.7918, device='cuda:0')\n",
            "\u001b[2m\u001b[36m(pid=2804)\u001b[0m Train_Loss = tensor(0.8991, device='cuda:0', grad_fn=<DivBackward0>)\n",
            "\u001b[2m\u001b[36m(pid=2804)\u001b[0m Val_Loss = tensor(0.8311, device='cuda:0')\n",
            "\u001b[2m\u001b[36m(pid=2804)\u001b[0m Val_Accuracy = 0.7632218844984853\n",
            "\u001b[2m\u001b[36m(pid=2804)\u001b[0m tensor(0.9211, device='cuda:0')\n",
            "\u001b[2m\u001b[36m(pid=2804)\u001b[0m  Training_Loss = tensor(0.8991, device='cuda:0', grad_fn=<DivBackward0>)  Validation_Loss = tensor(0.8311, device='cuda:0')\n",
            "Train_Loss = tensor(0.9276, device='cuda:0', grad_fn=<DivBackward0>)\n",
            "Val_Loss = tensor(0.7886, device='cuda:0')\n",
            "Val_Accuracy = 0.7584288052373205\n",
            "tensor(0.9133, device='cuda:0')\n",
            " Training_Loss = tensor(0.9276, device='cuda:0', grad_fn=<DivBackward0>)  Validation_Loss = tensor(0.7886, device='cuda:0')\n",
            "\u001b[2m\u001b[36m(pid=2804)\u001b[0m Train_Loss = tensor(0.8940, device='cuda:0', grad_fn=<DivBackward0>)\n",
            "\u001b[2m\u001b[36m(pid=2804)\u001b[0m Val_Loss = tensor(0.8274, device='cuda:0')\n",
            "\u001b[2m\u001b[36m(pid=2804)\u001b[0m Val_Accuracy = 0.7617021276595787\n",
            "\u001b[2m\u001b[36m(pid=2804)\u001b[0m tensor(0.9216, device='cuda:0')\n",
            "\u001b[2m\u001b[36m(pid=2804)\u001b[0m  Training_Loss = tensor(0.8940, device='cuda:0', grad_fn=<DivBackward0>)  Validation_Loss = tensor(0.8274, device='cuda:0')\n",
            "Train_Loss = tensor(0.9215, device='cuda:0', grad_fn=<DivBackward0>)\n",
            "Val_Loss = tensor(0.7889, device='cuda:0')\n",
            "Val_Accuracy = 0.7601823708206736\n",
            "tensor(0.9144, device='cuda:0')\n",
            " Training_Loss = tensor(0.9215, device='cuda:0', grad_fn=<DivBackward0>)  Validation_Loss = tensor(0.7889, device='cuda:0')\n",
            "Train_Loss = tensor(0.9147, device='cuda:0', grad_fn=<DivBackward0>)\n",
            "Val_Loss = tensor(0.7844, device='cuda:0')\n",
            "Val_Accuracy = 0.7622695035461036\n",
            "tensor(0.9221, device='cuda:0')\n",
            " Training_Loss = tensor(0.9147, device='cuda:0', grad_fn=<DivBackward0>)  Validation_Loss = tensor(0.7844, device='cuda:0')\n"
          ]
        }
      ]
    },
    {
      "cell_type": "code",
      "metadata": {
        "colab": {
          "base_uri": "https://localhost:8080/",
          "height": 1000
        },
        "id": "sLnH_tDQ8Oz3",
        "outputId": "fc8c78b9-7ca6-4beb-cd9c-748fd41e00a0"
      },
      "source": [
        "def main(num_samples=10, max_num_epochs=10, gpus_per_trial=2):\n",
        "    config = {\n",
        "        \"lr\" : tune.loguniform(5e-5, 1e-1),\n",
        "        \"b\" : tune.sample_from(lambda _ : np.random.uniform(1.0, 4.0)),\n",
        "        \"weight_decay\" : tune.loguniform(1e-5, 1e-3)\n",
        "    }\n",
        "    scheduler = ASHAScheduler(\n",
        "        metric=\"loss\",\n",
        "        mode=\"min\",\n",
        "        max_t=max_num_epochs,\n",
        "        grace_period=1,\n",
        "        reduction_factor=2)\n",
        "    reporter = CLIReporter(\n",
        "        # parameter_columns=[\"l1\", \"l2\", \"lr\", \"batch_size\"],\n",
        "        metric_columns=[\"loss\", \"accuracy\", \"training_iteration\"])\n",
        "    result = tune.run(\n",
        "        run_or_experiment = train,\n",
        "        resources_per_trial={\"cpu\": 2, \"gpu\": gpus_per_trial},\n",
        "        config=config,\n",
        "        num_samples=num_samples,\n",
        "        scheduler=scheduler,\n",
        "        progress_reporter=reporter)\n",
        "\n",
        "    best_trial = result.get_best_trial(\"loss\", \"min\", \"last\")\n",
        "    print(\"Best trial config: {}\".format(best_trial.config))\n",
        "    print(\"Best trial final validation loss: {}\".format(\n",
        "        best_trial.last_result[\"loss\"]))\n",
        "    print(\"Best trial final validation accuracy: {}\".format(\n",
        "        best_trial.last_result[\"accuracy\"]))\n",
        "\n",
        "if __name__ == \"__main__\":\n",
        "    # You can change the number of GPUs per trial here:\n",
        "    main(num_samples=10, max_num_epochs=10, gpus_per_trial=1)"
      ],
      "execution_count": null,
      "outputs": [
        {
          "output_type": "stream",
          "name": "stderr",
          "text": [
            "\u001b[2m\u001b[36m(pid=2681)\u001b[0m 2021-09-24 12:34:11,648\tERROR worker.py:428 -- SystemExit was raised from the worker\n",
            "\u001b[2m\u001b[36m(pid=2681)\u001b[0m Traceback (most recent call last):\n",
            "\u001b[2m\u001b[36m(pid=2681)\u001b[0m   File \"python/ray/_raylet.pyx\", line 640, in ray._raylet.task_execution_handler\n",
            "\u001b[2m\u001b[36m(pid=2681)\u001b[0m   File \"python/ray/_raylet.pyx\", line 488, in ray._raylet.execute_task\n",
            "\u001b[2m\u001b[36m(pid=2681)\u001b[0m   File \"python/ray/_raylet.pyx\", line 525, in ray._raylet.execute_task\n",
            "\u001b[2m\u001b[36m(pid=2681)\u001b[0m   File \"python/ray/_raylet.pyx\", line 532, in ray._raylet.execute_task\n",
            "\u001b[2m\u001b[36m(pid=2681)\u001b[0m   File \"python/ray/_raylet.pyx\", line 536, in ray._raylet.execute_task\n",
            "\u001b[2m\u001b[36m(pid=2681)\u001b[0m   File \"python/ray/_raylet.pyx\", line 486, in ray._raylet.execute_task.function_executor\n",
            "\u001b[2m\u001b[36m(pid=2681)\u001b[0m   File \"/usr/local/lib/python3.7/dist-packages/ray/_private/function_manager.py\", line 563, in actor_method_executor\n",
            "\u001b[2m\u001b[36m(pid=2681)\u001b[0m     return method(__ray_actor, *args, **kwargs)\n",
            "\u001b[2m\u001b[36m(pid=2681)\u001b[0m   File \"/usr/local/lib/python3.7/dist-packages/ray/tune/trainable.py\", line 178, in train_buffered\n",
            "\u001b[2m\u001b[36m(pid=2681)\u001b[0m     result = self.train()\n",
            "\u001b[2m\u001b[36m(pid=2681)\u001b[0m   File \"/usr/local/lib/python3.7/dist-packages/ray/tune/trainable.py\", line 237, in train\n",
            "\u001b[2m\u001b[36m(pid=2681)\u001b[0m     result = self.step()\n",
            "\u001b[2m\u001b[36m(pid=2681)\u001b[0m   File \"/usr/local/lib/python3.7/dist-packages/ray/tune/function_runner.py\", line 362, in step\n",
            "\u001b[2m\u001b[36m(pid=2681)\u001b[0m     block=True, timeout=RESULT_FETCH_TIMEOUT)\n",
            "\u001b[2m\u001b[36m(pid=2681)\u001b[0m   File \"/usr/lib/python3.7/queue.py\", line 179, in get\n",
            "\u001b[2m\u001b[36m(pid=2681)\u001b[0m     self.not_empty.wait(remaining)\n",
            "\u001b[2m\u001b[36m(pid=2681)\u001b[0m   File \"/usr/lib/python3.7/threading.py\", line 300, in wait\n",
            "\u001b[2m\u001b[36m(pid=2681)\u001b[0m     gotit = waiter.acquire(True, timeout)\n",
            "\u001b[2m\u001b[36m(pid=2681)\u001b[0m   File \"/usr/local/lib/python3.7/dist-packages/ray/worker.py\", line 425, in sigterm_handler\n",
            "\u001b[2m\u001b[36m(pid=2681)\u001b[0m     sys.exit(1)\n",
            "\u001b[2m\u001b[36m(pid=2681)\u001b[0m SystemExit: 1\n",
            "2021-09-24 12:34:12,675\tWARNING util.py:164 -- The `start_trial` operation took 0.898 s, which may be a performance bottleneck.\n"
          ]
        },
        {
          "output_type": "stream",
          "name": "stdout",
          "text": [
            "== Status ==\n",
            "Memory usage on this node: 3.0/12.7 GiB\n",
            "Using AsyncHyperBand: num_stopped=0\n",
            "Bracket: Iter 8.000: None | Iter 4.000: None | Iter 2.000: None | Iter 1.000: None\n",
            "Resources requested: 0/2 CPUs, 0/1 GPUs, 0.0/7.33 GiB heap, 0.0/3.66 GiB objects (0.0/1.0 accelerator_type:K80)\n",
            "Result logdir: /root/ray_results/train_2021-09-24_12-33-59\n",
            "Number of trials: 10/10 (10 PENDING)\n",
            "+-------------------+----------+-------+---------+-------------+----------------+\n",
            "| Trial name        | status   | loc   |       b |          lr |   weight_decay |\n",
            "|-------------------+----------+-------+---------+-------------+----------------|\n",
            "| train_b1f27_00000 | PENDING  |       | 3.84614 | 9.61532e-05 |    2.24305e-05 |\n",
            "| train_b1f27_00001 | PENDING  |       | 2.40026 | 5.28728e-05 |    0.000429683 |\n",
            "| train_b1f27_00002 | PENDING  |       | 3.55007 | 0.0802378   |    6.28401e-05 |\n",
            "| train_b1f27_00003 | PENDING  |       | 3.68778 | 0.000639658 |    2.06716e-05 |\n",
            "| train_b1f27_00004 | PENDING  |       | 2.85558 | 0.00867507  |    5.77911e-05 |\n",
            "| train_b1f27_00005 | PENDING  |       | 1.45062 | 0.0869829   |    1.855e-05   |\n",
            "| train_b1f27_00006 | PENDING  |       | 2.21322 | 0.00229512  |    0.000394371 |\n",
            "| train_b1f27_00007 | PENDING  |       | 2.74332 | 0.000109958 |    9.67223e-05 |\n",
            "| train_b1f27_00008 | PENDING  |       | 1.31891 | 0.0633314   |    0.00093107  |\n",
            "| train_b1f27_00009 | PENDING  |       | 2.57586 | 6.85728e-05 |    1.20379e-05 |\n",
            "+-------------------+----------+-------+---------+-------------+----------------+\n",
            "\n",
            "\n"
          ]
        },
        {
          "output_type": "stream",
          "name": "stderr",
          "text": [
            "2021-09-24 12:34:14,295\tWARNING worker.py:1215 -- Warning: The actor ImplicitFunc is very large (91 MiB). Check that its definition is not implicitly capturing a large array or other object in scope. Tip: use ray.put() to put large objects in the Ray object store.\n",
            "2021-09-24 12:34:14,422\tWARNING util.py:164 -- The `start_trial` operation took 1.725 s, which may be a performance bottleneck.\n",
            "2021-09-24 12:34:15,478\tWARNING util.py:164 -- The `start_trial` operation took 1.047 s, which may be a performance bottleneck.\n",
            "2021-09-24 12:34:16,482\tWARNING util.py:164 -- The `start_trial` operation took 0.893 s, which may be a performance bottleneck.\n",
            "2021-09-24 12:34:17,480\tWARNING util.py:164 -- The `start_trial` operation took 0.887 s, which may be a performance bottleneck.\n",
            "2021-09-24 12:34:18,411\tWARNING util.py:164 -- The `start_trial` operation took 0.827 s, which may be a performance bottleneck.\n"
          ]
        },
        {
          "output_type": "stream",
          "name": "stdout",
          "text": [
            "== Status ==\n",
            "Memory usage on this node: 3.7/12.7 GiB\n",
            "Using AsyncHyperBand: num_stopped=0\n",
            "Bracket: Iter 8.000: None | Iter 4.000: None | Iter 2.000: None | Iter 1.000: None\n",
            "Resources requested: 2.0/2 CPUs, 1.0/1 GPUs, 0.0/7.33 GiB heap, 0.0/3.66 GiB objects (0.0/1.0 accelerator_type:K80)\n",
            "Result logdir: /root/ray_results/train_2021-09-24_12-33-59\n",
            "Number of trials: 10/10 (9 PENDING, 1 RUNNING)\n",
            "+-------------------+----------+-------+---------+-------------+----------------+\n",
            "| Trial name        | status   | loc   |       b |          lr |   weight_decay |\n",
            "|-------------------+----------+-------+---------+-------------+----------------|\n",
            "| train_b1f27_00000 | RUNNING  |       | 3.84614 | 9.61532e-05 |    2.24305e-05 |\n",
            "| train_b1f27_00001 | PENDING  |       | 2.40026 | 5.28728e-05 |    0.000429683 |\n",
            "| train_b1f27_00002 | PENDING  |       | 3.55007 | 0.0802378   |    6.28401e-05 |\n",
            "| train_b1f27_00003 | PENDING  |       | 3.68778 | 0.000639658 |    2.06716e-05 |\n",
            "| train_b1f27_00004 | PENDING  |       | 2.85558 | 0.00867507  |    5.77911e-05 |\n",
            "| train_b1f27_00005 | PENDING  |       | 1.45062 | 0.0869829   |    1.855e-05   |\n",
            "| train_b1f27_00006 | PENDING  |       | 2.21322 | 0.00229512  |    0.000394371 |\n",
            "| train_b1f27_00007 | PENDING  |       | 2.74332 | 0.000109958 |    9.67223e-05 |\n",
            "| train_b1f27_00008 | PENDING  |       | 1.31891 | 0.0633314   |    0.00093107  |\n",
            "| train_b1f27_00009 | PENDING  |       | 2.57586 | 6.85728e-05 |    1.20379e-05 |\n",
            "+-------------------+----------+-------+---------+-------------+----------------+\n",
            "\n",
            "\n"
          ]
        },
        {
          "output_type": "stream",
          "name": "stderr",
          "text": [
            "2021-09-24 12:34:19,383\tWARNING util.py:164 -- The `start_trial` operation took 0.857 s, which may be a performance bottleneck.\n",
            "2021-09-24 12:34:20,322\tWARNING util.py:164 -- The `start_trial` operation took 0.830 s, which may be a performance bottleneck.\n",
            "2021-09-24 12:34:21,257\tWARNING util.py:164 -- The `start_trial` operation took 0.826 s, which may be a performance bottleneck.\n",
            "2021-09-24 12:34:22,216\tWARNING util.py:164 -- The `start_trial` operation took 0.856 s, which may be a performance bottleneck.\n",
            "\u001b[2m\u001b[36m(pid=2804)\u001b[0m /usr/local/lib/python3.7/dist-packages/torch/nn/functional.py:718: UserWarning: Named tensors and all their associated APIs are an experimental feature and subject to change. Please do not use them for anything important until they are released as stable. (Triggered internally at  /pytorch/c10/core/TensorImpl.h:1156.)\n",
            "\u001b[2m\u001b[36m(pid=2804)\u001b[0m   return torch.max_pool2d(input, kernel_size, stride, padding, dilation, ceil_mode)\n",
            "2021-09-24 12:35:28,238\tWARNING tune.py:519 -- SIGINT received (e.g. via Ctrl+C), ending Ray Tune run. This will try to checkpoint the experiment state one last time. Press CTRL+C one more time (or send SIGINT/SIGKILL/SIGTERM) to skip. \n"
          ]
        },
        {
          "output_type": "error",
          "ename": "KeyboardInterrupt",
          "evalue": "ignored",
          "traceback": [
            "\u001b[0;31m---------------------------------------------------------------------------\u001b[0m",
            "\u001b[0;31mKeyboardInterrupt\u001b[0m                         Traceback (most recent call last)",
            "\u001b[0;32m<ipython-input-47-8410086e55df>\u001b[0m in \u001b[0;36m<module>\u001b[0;34m()\u001b[0m\n\u001b[1;32m     31\u001b[0m \u001b[0;32mif\u001b[0m \u001b[0m__name__\u001b[0m \u001b[0;34m==\u001b[0m \u001b[0;34m\"__main__\"\u001b[0m\u001b[0;34m:\u001b[0m\u001b[0;34m\u001b[0m\u001b[0;34m\u001b[0m\u001b[0m\n\u001b[1;32m     32\u001b[0m     \u001b[0;31m# You can change the number of GPUs per trial here:\u001b[0m\u001b[0;34m\u001b[0m\u001b[0;34m\u001b[0m\u001b[0;34m\u001b[0m\u001b[0m\n\u001b[0;32m---> 33\u001b[0;31m     \u001b[0mmain\u001b[0m\u001b[0;34m(\u001b[0m\u001b[0mnum_samples\u001b[0m\u001b[0;34m=\u001b[0m\u001b[0;36m10\u001b[0m\u001b[0;34m,\u001b[0m \u001b[0mmax_num_epochs\u001b[0m\u001b[0;34m=\u001b[0m\u001b[0;36m10\u001b[0m\u001b[0;34m,\u001b[0m \u001b[0mgpus_per_trial\u001b[0m\u001b[0;34m=\u001b[0m\u001b[0;36m1\u001b[0m\u001b[0;34m)\u001b[0m\u001b[0;34m\u001b[0m\u001b[0;34m\u001b[0m\u001b[0m\n\u001b[0m",
            "\u001b[0;32m<ipython-input-47-8410086e55df>\u001b[0m in \u001b[0;36mmain\u001b[0;34m(num_samples, max_num_epochs, gpus_per_trial)\u001b[0m\n\u001b[1;32m     20\u001b[0m         \u001b[0mnum_samples\u001b[0m\u001b[0;34m=\u001b[0m\u001b[0mnum_samples\u001b[0m\u001b[0;34m,\u001b[0m\u001b[0;34m\u001b[0m\u001b[0;34m\u001b[0m\u001b[0m\n\u001b[1;32m     21\u001b[0m         \u001b[0mscheduler\u001b[0m\u001b[0;34m=\u001b[0m\u001b[0mscheduler\u001b[0m\u001b[0;34m,\u001b[0m\u001b[0;34m\u001b[0m\u001b[0;34m\u001b[0m\u001b[0m\n\u001b[0;32m---> 22\u001b[0;31m         progress_reporter=reporter)\n\u001b[0m\u001b[1;32m     23\u001b[0m \u001b[0;34m\u001b[0m\u001b[0m\n\u001b[1;32m     24\u001b[0m     \u001b[0mbest_trial\u001b[0m \u001b[0;34m=\u001b[0m \u001b[0mresult\u001b[0m\u001b[0;34m.\u001b[0m\u001b[0mget_best_trial\u001b[0m\u001b[0;34m(\u001b[0m\u001b[0;34m\"loss\"\u001b[0m\u001b[0;34m,\u001b[0m \u001b[0;34m\"min\"\u001b[0m\u001b[0;34m,\u001b[0m \u001b[0;34m\"last\"\u001b[0m\u001b[0;34m)\u001b[0m\u001b[0;34m\u001b[0m\u001b[0;34m\u001b[0m\u001b[0m\n",
            "\u001b[0;32m/usr/local/lib/python3.7/dist-packages/ray/tune/tune.py\u001b[0m in \u001b[0;36mrun\u001b[0;34m(run_or_experiment, name, metric, mode, stop, time_budget_s, config, resources_per_trial, num_samples, local_dir, search_alg, scheduler, keep_checkpoints_num, checkpoint_score_attr, checkpoint_freq, checkpoint_at_end, verbose, progress_reporter, log_to_file, trial_name_creator, trial_dirname_creator, sync_config, export_formats, max_failures, fail_fast, restore, server_port, resume, queue_trials, reuse_actors, trial_executor, raise_on_failed_trial, callbacks, loggers, ray_auto_init, run_errored_only, global_checkpoint_period, with_server, upload_dir, sync_to_cloud, sync_to_driver, sync_on_checkpoint, _remote)\u001b[0m\n\u001b[1;32m    530\u001b[0m     \u001b[0mtune_start\u001b[0m \u001b[0;34m=\u001b[0m \u001b[0mtime\u001b[0m\u001b[0;34m.\u001b[0m\u001b[0mtime\u001b[0m\u001b[0;34m(\u001b[0m\u001b[0;34m)\u001b[0m\u001b[0;34m\u001b[0m\u001b[0;34m\u001b[0m\u001b[0m\n\u001b[1;32m    531\u001b[0m     \u001b[0;32mwhile\u001b[0m \u001b[0;32mnot\u001b[0m \u001b[0mrunner\u001b[0m\u001b[0;34m.\u001b[0m\u001b[0mis_finished\u001b[0m\u001b[0;34m(\u001b[0m\u001b[0;34m)\u001b[0m \u001b[0;32mand\u001b[0m \u001b[0;32mnot\u001b[0m \u001b[0mstate\u001b[0m\u001b[0;34m[\u001b[0m\u001b[0msignal\u001b[0m\u001b[0;34m.\u001b[0m\u001b[0mSIGINT\u001b[0m\u001b[0;34m]\u001b[0m\u001b[0;34m:\u001b[0m\u001b[0;34m\u001b[0m\u001b[0;34m\u001b[0m\u001b[0m\n\u001b[0;32m--> 532\u001b[0;31m         \u001b[0mrunner\u001b[0m\u001b[0;34m.\u001b[0m\u001b[0mstep\u001b[0m\u001b[0;34m(\u001b[0m\u001b[0;34m)\u001b[0m\u001b[0;34m\u001b[0m\u001b[0;34m\u001b[0m\u001b[0m\n\u001b[0m\u001b[1;32m    533\u001b[0m         \u001b[0;32mif\u001b[0m \u001b[0mhas_verbosity\u001b[0m\u001b[0;34m(\u001b[0m\u001b[0mVerbosity\u001b[0m\u001b[0;34m.\u001b[0m\u001b[0mV1_EXPERIMENT\u001b[0m\u001b[0;34m)\u001b[0m\u001b[0;34m:\u001b[0m\u001b[0;34m\u001b[0m\u001b[0;34m\u001b[0m\u001b[0m\n\u001b[1;32m    534\u001b[0m             \u001b[0m_report_progress\u001b[0m\u001b[0;34m(\u001b[0m\u001b[0mrunner\u001b[0m\u001b[0;34m,\u001b[0m \u001b[0mprogress_reporter\u001b[0m\u001b[0;34m)\u001b[0m\u001b[0;34m\u001b[0m\u001b[0;34m\u001b[0m\u001b[0m\n",
            "\u001b[0;32m/usr/local/lib/python3.7/dist-packages/ray/tune/trial_runner.py\u001b[0m in \u001b[0;36mstep\u001b[0;34m(self)\u001b[0m\n\u001b[1;32m    552\u001b[0m                 \u001b[0;32mif\u001b[0m \u001b[0mself\u001b[0m\u001b[0;34m.\u001b[0m\u001b[0mtrial_executor\u001b[0m\u001b[0;34m.\u001b[0m\u001b[0min_staging_grace_period\u001b[0m\u001b[0;34m(\u001b[0m\u001b[0;34m)\u001b[0m\u001b[0;34m:\u001b[0m\u001b[0;34m\u001b[0m\u001b[0;34m\u001b[0m\u001b[0m\n\u001b[1;32m    553\u001b[0m                     \u001b[0mtimeout\u001b[0m \u001b[0;34m=\u001b[0m \u001b[0;36m0.1\u001b[0m\u001b[0;34m\u001b[0m\u001b[0;34m\u001b[0m\u001b[0m\n\u001b[0;32m--> 554\u001b[0;31m                 \u001b[0mself\u001b[0m\u001b[0;34m.\u001b[0m\u001b[0m_process_events\u001b[0m\u001b[0;34m(\u001b[0m\u001b[0mtimeout\u001b[0m\u001b[0;34m=\u001b[0m\u001b[0mtimeout\u001b[0m\u001b[0;34m)\u001b[0m  \u001b[0;31m# blocking\u001b[0m\u001b[0;34m\u001b[0m\u001b[0;34m\u001b[0m\u001b[0m\n\u001b[0m\u001b[1;32m    555\u001b[0m             \u001b[0;32melse\u001b[0m\u001b[0;34m:\u001b[0m\u001b[0;34m\u001b[0m\u001b[0;34m\u001b[0m\u001b[0m\n\u001b[1;32m    556\u001b[0m                 \u001b[0mself\u001b[0m\u001b[0;34m.\u001b[0m\u001b[0mtrial_executor\u001b[0m\u001b[0;34m.\u001b[0m\u001b[0mon_no_available_trials\u001b[0m\u001b[0;34m(\u001b[0m\u001b[0mself\u001b[0m\u001b[0;34m)\u001b[0m\u001b[0;34m\u001b[0m\u001b[0;34m\u001b[0m\u001b[0m\n",
            "\u001b[0;32m/usr/local/lib/python3.7/dist-packages/ray/tune/trial_runner.py\u001b[0m in \u001b[0;36m_process_events\u001b[0;34m(self, timeout)\u001b[0m\n\u001b[1;32m    673\u001b[0m             \u001b[0;31m#  fetch_result functionality so that we don't timeout on fetch.\u001b[0m\u001b[0;34m\u001b[0m\u001b[0;34m\u001b[0m\u001b[0;34m\u001b[0m\u001b[0m\n\u001b[1;32m    674\u001b[0m             trial = self.trial_executor.get_next_available_trial(\n\u001b[0;32m--> 675\u001b[0;31m                 timeout=timeout)  # blocking\n\u001b[0m\u001b[1;32m    676\u001b[0m             \u001b[0;32mif\u001b[0m \u001b[0;32mnot\u001b[0m \u001b[0mtrial\u001b[0m\u001b[0;34m:\u001b[0m\u001b[0;34m\u001b[0m\u001b[0;34m\u001b[0m\u001b[0m\n\u001b[1;32m    677\u001b[0m                 \u001b[0;32mreturn\u001b[0m\u001b[0;34m\u001b[0m\u001b[0;34m\u001b[0m\u001b[0m\n",
            "\u001b[0;32m/usr/local/lib/python3.7/dist-packages/ray/tune/ray_trial_executor.py\u001b[0m in \u001b[0;36mget_next_available_trial\u001b[0;34m(self, timeout)\u001b[0m\n\u001b[1;32m    716\u001b[0m         \u001b[0;31m# See https://github.com/ray-project/ray/issues/4211 for details.\u001b[0m\u001b[0;34m\u001b[0m\u001b[0;34m\u001b[0m\u001b[0;34m\u001b[0m\u001b[0m\n\u001b[1;32m    717\u001b[0m         \u001b[0mstart\u001b[0m \u001b[0;34m=\u001b[0m \u001b[0mtime\u001b[0m\u001b[0;34m.\u001b[0m\u001b[0mtime\u001b[0m\u001b[0;34m(\u001b[0m\u001b[0;34m)\u001b[0m\u001b[0;34m\u001b[0m\u001b[0;34m\u001b[0m\u001b[0m\n\u001b[0;32m--> 718\u001b[0;31m         \u001b[0mready\u001b[0m\u001b[0;34m,\u001b[0m \u001b[0m_\u001b[0m \u001b[0;34m=\u001b[0m \u001b[0mray\u001b[0m\u001b[0;34m.\u001b[0m\u001b[0mwait\u001b[0m\u001b[0;34m(\u001b[0m\u001b[0mshuffled_results\u001b[0m\u001b[0;34m,\u001b[0m \u001b[0mtimeout\u001b[0m\u001b[0;34m=\u001b[0m\u001b[0mtimeout\u001b[0m\u001b[0;34m)\u001b[0m\u001b[0;34m\u001b[0m\u001b[0;34m\u001b[0m\u001b[0m\n\u001b[0m\u001b[1;32m    719\u001b[0m         \u001b[0;32mif\u001b[0m \u001b[0;32mnot\u001b[0m \u001b[0mready\u001b[0m\u001b[0;34m:\u001b[0m\u001b[0;34m\u001b[0m\u001b[0;34m\u001b[0m\u001b[0m\n\u001b[1;32m    720\u001b[0m             \u001b[0;32mreturn\u001b[0m \u001b[0;32mNone\u001b[0m\u001b[0;34m\u001b[0m\u001b[0;34m\u001b[0m\u001b[0m\n",
            "\u001b[0;32m/usr/local/lib/python3.7/dist-packages/ray/_private/client_mode_hook.py\u001b[0m in \u001b[0;36mwrapper\u001b[0;34m(*args, **kwargs)\u001b[0m\n\u001b[1;32m     80\u001b[0m         \u001b[0;32mif\u001b[0m \u001b[0mclient_mode_should_convert\u001b[0m\u001b[0;34m(\u001b[0m\u001b[0;34m)\u001b[0m\u001b[0;34m:\u001b[0m\u001b[0;34m\u001b[0m\u001b[0;34m\u001b[0m\u001b[0m\n\u001b[1;32m     81\u001b[0m             \u001b[0;32mreturn\u001b[0m \u001b[0mgetattr\u001b[0m\u001b[0;34m(\u001b[0m\u001b[0mray\u001b[0m\u001b[0;34m,\u001b[0m \u001b[0mfunc\u001b[0m\u001b[0;34m.\u001b[0m\u001b[0m__name__\u001b[0m\u001b[0;34m)\u001b[0m\u001b[0;34m(\u001b[0m\u001b[0;34m*\u001b[0m\u001b[0margs\u001b[0m\u001b[0;34m,\u001b[0m \u001b[0;34m**\u001b[0m\u001b[0mkwargs\u001b[0m\u001b[0;34m)\u001b[0m\u001b[0;34m\u001b[0m\u001b[0;34m\u001b[0m\u001b[0m\n\u001b[0;32m---> 82\u001b[0;31m         \u001b[0;32mreturn\u001b[0m \u001b[0mfunc\u001b[0m\u001b[0;34m(\u001b[0m\u001b[0;34m*\u001b[0m\u001b[0margs\u001b[0m\u001b[0;34m,\u001b[0m \u001b[0;34m**\u001b[0m\u001b[0mkwargs\u001b[0m\u001b[0;34m)\u001b[0m\u001b[0;34m\u001b[0m\u001b[0;34m\u001b[0m\u001b[0m\n\u001b[0m\u001b[1;32m     83\u001b[0m \u001b[0;34m\u001b[0m\u001b[0m\n\u001b[1;32m     84\u001b[0m     \u001b[0;32mreturn\u001b[0m \u001b[0mwrapper\u001b[0m\u001b[0;34m\u001b[0m\u001b[0;34m\u001b[0m\u001b[0m\n",
            "\u001b[0;32m/usr/local/lib/python3.7/dist-packages/ray/worker.py\u001b[0m in \u001b[0;36mwait\u001b[0;34m(object_refs, num_returns, timeout, fetch_local)\u001b[0m\n\u001b[1;32m   1791\u001b[0m             \u001b[0mtimeout_milliseconds\u001b[0m\u001b[0;34m,\u001b[0m\u001b[0;34m\u001b[0m\u001b[0;34m\u001b[0m\u001b[0m\n\u001b[1;32m   1792\u001b[0m             \u001b[0mworker\u001b[0m\u001b[0;34m.\u001b[0m\u001b[0mcurrent_task_id\u001b[0m\u001b[0;34m,\u001b[0m\u001b[0;34m\u001b[0m\u001b[0;34m\u001b[0m\u001b[0m\n\u001b[0;32m-> 1793\u001b[0;31m             \u001b[0mfetch_local\u001b[0m\u001b[0;34m,\u001b[0m\u001b[0;34m\u001b[0m\u001b[0;34m\u001b[0m\u001b[0m\n\u001b[0m\u001b[1;32m   1794\u001b[0m         )\n\u001b[1;32m   1795\u001b[0m         \u001b[0;32mreturn\u001b[0m \u001b[0mready_ids\u001b[0m\u001b[0;34m,\u001b[0m \u001b[0mremaining_ids\u001b[0m\u001b[0;34m\u001b[0m\u001b[0;34m\u001b[0m\u001b[0m\n",
            "\u001b[0;32mpython/ray/_raylet.pyx\u001b[0m in \u001b[0;36mray._raylet.CoreWorker.wait\u001b[0;34m()\u001b[0m\n",
            "\u001b[0;32mpython/ray/_raylet.pyx\u001b[0m in \u001b[0;36mray._raylet.check_status\u001b[0;34m()\u001b[0m\n",
            "\u001b[0;31mKeyboardInterrupt\u001b[0m: "
          ]
        }
      ]
    },
    {
      "cell_type": "code",
      "metadata": {
        "id": "nBHO9f1k_bdH"
      },
      "source": [
        "_, preds = torch.max(torch.reshape(predictions_, (235, 4)), dim= 1)\n",
        "labels_cm = torch.reshape(labels_, [235])"
      ],
      "execution_count": null,
      "outputs": []
    },
    {
      "cell_type": "code",
      "metadata": {
        "id": "a932Fh5g9dFp"
      },
      "source": [
        "import seaborn as sns\n",
        "from sklearn.metrics import confusion_matrix\n",
        "cm = confusion_matrix(preds.cpu(), labels_cm.cpu())"
      ],
      "execution_count": null,
      "outputs": []
    },
    {
      "cell_type": "code",
      "metadata": {
        "id": "TPqu-LNDAD1Z"
      },
      "source": [
        "cm_df = pd.DataFrame(cm, index= ['Healthy', 'Multiple Diseases', 'Rust', 'Scab'], columns= ['Healthy', 'Multiple Diseases', 'Rust', 'Scab'])"
      ],
      "execution_count": null,
      "outputs": []
    },
    {
      "cell_type": "code",
      "metadata": {
        "id": "fFEMFrRIAgbg"
      },
      "source": [
        "plt.figure(figsize=(6,5))\n",
        "sns.heatmap(cm_df, annot=True)\n",
        "plt.title('Confusion Matrix')\n",
        "plt.ylabel('Predicted Values')\n",
        "plt.xlabel('Actual Values')\n",
        "plt.show()"
      ],
      "execution_count": null,
      "outputs": []
    },
    {
      "cell_type": "code",
      "metadata": {
        "id": "slWxhCQ-sAF9"
      },
      "source": [
        "print(predictions_)\n",
        "preds = torch.reshape(predictions_, (235, 4))\n",
        "preds "
      ],
      "execution_count": null,
      "outputs": []
    },
    {
      "cell_type": "code",
      "metadata": {
        "id": "wBOXfU16sd7i"
      },
      "source": [
        "\n",
        "lab = torch.reshape(labels_, [235])\n",
        "lab"
      ],
      "execution_count": null,
      "outputs": []
    },
    {
      "cell_type": "code",
      "metadata": {
        "id": "qK1aVBgwgksV"
      },
      "source": [
        "#Test Set Predictions\n",
        "import csv\n",
        "pred_test = []\n",
        "i = 1\n",
        "for batch, _ in test_dl:\n",
        "  output = model(batch.cuda())\n",
        "  _, pred = torch.max(output, dim = 1)\n",
        "  pred_test.append(pred)\n",
        "  i+=1\n",
        "pred_test_all = torch.stack(pred_test, dim=1)\n",
        "pred_test_final = torch.reshape(pred_test_all, [1821])"
      ],
      "execution_count": null,
      "outputs": []
    },
    {
      "cell_type": "code",
      "metadata": {
        "id": "foF9GuIlgs4q"
      },
      "source": [
        "test[\"pred\"] = pred_test_final.cpu()\n",
        "test[\"healthy\"] = test.apply(lambda x : 1 if x[\"pred\"] == 0 else 0, axis = 1)\n",
        "test[\"multiple_diseases\"] = test.apply(lambda x : 1 if x[\"pred\"] == 1 else 0, axis = 1)\n",
        "test[\"rust\"] = test.apply(lambda x : 1 if x[\"pred\"] == 2 else 0, axis = 1)\n",
        "test[\"scab\"] = test.apply(lambda x : 1 if x[\"pred\"] == 3 else 0, axis = 1)\n",
        "test = test.drop(columns= [\"pred\"])\n",
        "test.to_csv(\"submission.csv\", index= False)  \n"
      ],
      "execution_count": null,
      "outputs": []
    },
    {
      "cell_type": "code",
      "metadata": {
        "id": "pEyxRQlqy1CA"
      },
      "source": [],
      "execution_count": null,
      "outputs": []
    }
  ]
}